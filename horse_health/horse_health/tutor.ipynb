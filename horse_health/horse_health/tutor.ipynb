{
 "cells": [
  {
   "cell_type": "code",
   "execution_count": 1309,
   "metadata": {},
   "outputs": [],
   "source": [
    "import numpy as np\n",
    "import pandas as pd\n",
    "from sklearn.impute import SimpleImputer\n",
    "from sklearn.preprocessing import LabelEncoder\n",
    "# from sklearn.preprocessing import OneHotEncoder\n",
    "from sklearn.metrics import accuracy_score\n",
    "from sklearn.svm import SVC\n",
    "from sklearn.ensemble import RandomForestClassifier\n",
    "from sklearn.model_selection import train_test_split"
   ]
  },
  {
   "cell_type": "code",
   "execution_count": 1310,
   "metadata": {},
   "outputs": [],
   "source": [
    "df = pd.read_csv(\"train.csv\")"
   ]
  },
  {
   "cell_type": "code",
   "execution_count": 1311,
   "metadata": {},
   "outputs": [],
   "source": [
    "df = df.dropna(axis=1)\n",
    "df = df.drop(columns=[\"id\",\"hospital_number\"])"
   ]
  },
  {
   "cell_type": "code",
   "execution_count": 1312,
   "metadata": {},
   "outputs": [],
   "source": [
    "x = df[df.columns[:-1]]\n",
    "y = df[df.columns[-1]]"
   ]
  },
  {
   "cell_type": "code",
   "execution_count": 1313,
   "metadata": {},
   "outputs": [
    {
     "data": {
      "text/plain": [
       "(1235, 14)"
      ]
     },
     "execution_count": 1313,
     "metadata": {},
     "output_type": "execute_result"
    }
   ],
   "source": [
    "x.shape"
   ]
  },
  {
   "cell_type": "code",
   "execution_count": 1314,
   "metadata": {},
   "outputs": [
    {
     "name": "stdout",
     "output_type": "stream",
     "text": [
      "<class 'pandas.core.frame.DataFrame'>\n",
      "RangeIndex: 1235 entries, 0 to 1234\n",
      "Data columns (total 14 columns):\n",
      " #   Column                 Non-Null Count  Dtype  \n",
      "---  ------                 --------------  -----  \n",
      " 0   surgery                1235 non-null   object \n",
      " 1   age                    1235 non-null   object \n",
      " 2   rectal_temp            1235 non-null   float64\n",
      " 3   pulse                  1235 non-null   float64\n",
      " 4   respiratory_rate       1235 non-null   float64\n",
      " 5   nasogastric_reflux_ph  1235 non-null   float64\n",
      " 6   packed_cell_volume     1235 non-null   float64\n",
      " 7   total_protein          1235 non-null   float64\n",
      " 8   abdomo_protein         1235 non-null   float64\n",
      " 9   surgical_lesion        1235 non-null   object \n",
      " 10  lesion_1               1235 non-null   int64  \n",
      " 11  lesion_2               1235 non-null   int64  \n",
      " 12  lesion_3               1235 non-null   int64  \n",
      " 13  cp_data                1235 non-null   object \n",
      "dtypes: float64(7), int64(3), object(4)\n",
      "memory usage: 135.2+ KB\n"
     ]
    }
   ],
   "source": [
    "x.info()"
   ]
  },
  {
   "cell_type": "code",
   "execution_count": 1315,
   "metadata": {},
   "outputs": [
    {
     "name": "stderr",
     "output_type": "stream",
     "text": [
      "C:\\Users\\jonat\\AppData\\Local\\Temp\\ipykernel_14480\\2825865924.py:5: SettingWithCopyWarning: \n",
      "A value is trying to be set on a copy of a slice from a DataFrame.\n",
      "Try using .loc[row_indexer,col_indexer] = value instead\n",
      "\n",
      "See the caveats in the documentation: https://pandas.pydata.org/pandas-docs/stable/user_guide/indexing.html#returning-a-view-versus-a-copy\n",
      "  x[column] = le.fit_transform(x[column])\n",
      "C:\\Users\\jonat\\AppData\\Local\\Temp\\ipykernel_14480\\2825865924.py:5: SettingWithCopyWarning: \n",
      "A value is trying to be set on a copy of a slice from a DataFrame.\n",
      "Try using .loc[row_indexer,col_indexer] = value instead\n",
      "\n",
      "See the caveats in the documentation: https://pandas.pydata.org/pandas-docs/stable/user_guide/indexing.html#returning-a-view-versus-a-copy\n",
      "  x[column] = le.fit_transform(x[column])\n",
      "C:\\Users\\jonat\\AppData\\Local\\Temp\\ipykernel_14480\\2825865924.py:5: SettingWithCopyWarning: \n",
      "A value is trying to be set on a copy of a slice from a DataFrame.\n",
      "Try using .loc[row_indexer,col_indexer] = value instead\n",
      "\n",
      "See the caveats in the documentation: https://pandas.pydata.org/pandas-docs/stable/user_guide/indexing.html#returning-a-view-versus-a-copy\n",
      "  x[column] = le.fit_transform(x[column])\n",
      "C:\\Users\\jonat\\AppData\\Local\\Temp\\ipykernel_14480\\2825865924.py:5: SettingWithCopyWarning: \n",
      "A value is trying to be set on a copy of a slice from a DataFrame.\n",
      "Try using .loc[row_indexer,col_indexer] = value instead\n",
      "\n",
      "See the caveats in the documentation: https://pandas.pydata.org/pandas-docs/stable/user_guide/indexing.html#returning-a-view-versus-a-copy\n",
      "  x[column] = le.fit_transform(x[column])\n"
     ]
    }
   ],
   "source": [
    "for column in x.columns:\n",
    "    if (x[column].dtype == \"object\"):\n",
    "        le = LabelEncoder()\n",
    "        # le = OneHotEncoder()\n",
    "        x[column] = le.fit_transform(x[column])"
   ]
  },
  {
   "cell_type": "code",
   "execution_count": 1316,
   "metadata": {},
   "outputs": [
    {
     "data": {
      "text/html": [
       "<div>\n",
       "<style scoped>\n",
       "    .dataframe tbody tr th:only-of-type {\n",
       "        vertical-align: middle;\n",
       "    }\n",
       "\n",
       "    .dataframe tbody tr th {\n",
       "        vertical-align: top;\n",
       "    }\n",
       "\n",
       "    .dataframe thead th {\n",
       "        text-align: right;\n",
       "    }\n",
       "</style>\n",
       "<table border=\"1\" class=\"dataframe\">\n",
       "  <thead>\n",
       "    <tr style=\"text-align: right;\">\n",
       "      <th></th>\n",
       "      <th>surgery</th>\n",
       "      <th>age</th>\n",
       "      <th>rectal_temp</th>\n",
       "      <th>pulse</th>\n",
       "      <th>respiratory_rate</th>\n",
       "      <th>nasogastric_reflux_ph</th>\n",
       "      <th>packed_cell_volume</th>\n",
       "      <th>total_protein</th>\n",
       "      <th>abdomo_protein</th>\n",
       "      <th>surgical_lesion</th>\n",
       "      <th>lesion_1</th>\n",
       "      <th>lesion_2</th>\n",
       "      <th>lesion_3</th>\n",
       "      <th>cp_data</th>\n",
       "    </tr>\n",
       "  </thead>\n",
       "  <tbody>\n",
       "    <tr>\n",
       "      <th>0</th>\n",
       "      <td>1</td>\n",
       "      <td>0</td>\n",
       "      <td>38.1</td>\n",
       "      <td>132.0</td>\n",
       "      <td>24.0</td>\n",
       "      <td>6.5</td>\n",
       "      <td>57.0</td>\n",
       "      <td>8.5</td>\n",
       "      <td>3.4</td>\n",
       "      <td>1</td>\n",
       "      <td>2209</td>\n",
       "      <td>0</td>\n",
       "      <td>0</td>\n",
       "      <td>0</td>\n",
       "    </tr>\n",
       "    <tr>\n",
       "      <th>1</th>\n",
       "      <td>1</td>\n",
       "      <td>0</td>\n",
       "      <td>37.5</td>\n",
       "      <td>88.0</td>\n",
       "      <td>12.0</td>\n",
       "      <td>2.0</td>\n",
       "      <td>33.0</td>\n",
       "      <td>64.0</td>\n",
       "      <td>2.0</td>\n",
       "      <td>1</td>\n",
       "      <td>2208</td>\n",
       "      <td>0</td>\n",
       "      <td>0</td>\n",
       "      <td>0</td>\n",
       "    </tr>\n",
       "    <tr>\n",
       "      <th>2</th>\n",
       "      <td>1</td>\n",
       "      <td>0</td>\n",
       "      <td>38.3</td>\n",
       "      <td>120.0</td>\n",
       "      <td>28.0</td>\n",
       "      <td>3.5</td>\n",
       "      <td>37.0</td>\n",
       "      <td>6.4</td>\n",
       "      <td>3.4</td>\n",
       "      <td>1</td>\n",
       "      <td>5124</td>\n",
       "      <td>0</td>\n",
       "      <td>0</td>\n",
       "      <td>0</td>\n",
       "    </tr>\n",
       "    <tr>\n",
       "      <th>3</th>\n",
       "      <td>1</td>\n",
       "      <td>0</td>\n",
       "      <td>37.1</td>\n",
       "      <td>72.0</td>\n",
       "      <td>30.0</td>\n",
       "      <td>2.0</td>\n",
       "      <td>53.0</td>\n",
       "      <td>7.0</td>\n",
       "      <td>3.9</td>\n",
       "      <td>1</td>\n",
       "      <td>2208</td>\n",
       "      <td>0</td>\n",
       "      <td>0</td>\n",
       "      <td>1</td>\n",
       "    </tr>\n",
       "    <tr>\n",
       "      <th>4</th>\n",
       "      <td>0</td>\n",
       "      <td>0</td>\n",
       "      <td>38.0</td>\n",
       "      <td>52.0</td>\n",
       "      <td>48.0</td>\n",
       "      <td>7.0</td>\n",
       "      <td>47.0</td>\n",
       "      <td>7.3</td>\n",
       "      <td>2.6</td>\n",
       "      <td>0</td>\n",
       "      <td>0</td>\n",
       "      <td>0</td>\n",
       "      <td>0</td>\n",
       "      <td>1</td>\n",
       "    </tr>\n",
       "    <tr>\n",
       "      <th>...</th>\n",
       "      <td>...</td>\n",
       "      <td>...</td>\n",
       "      <td>...</td>\n",
       "      <td>...</td>\n",
       "      <td>...</td>\n",
       "      <td>...</td>\n",
       "      <td>...</td>\n",
       "      <td>...</td>\n",
       "      <td>...</td>\n",
       "      <td>...</td>\n",
       "      <td>...</td>\n",
       "      <td>...</td>\n",
       "      <td>...</td>\n",
       "      <td>...</td>\n",
       "    </tr>\n",
       "    <tr>\n",
       "      <th>1230</th>\n",
       "      <td>1</td>\n",
       "      <td>0</td>\n",
       "      <td>38.5</td>\n",
       "      <td>129.0</td>\n",
       "      <td>48.0</td>\n",
       "      <td>2.0</td>\n",
       "      <td>57.0</td>\n",
       "      <td>66.0</td>\n",
       "      <td>2.0</td>\n",
       "      <td>1</td>\n",
       "      <td>2206</td>\n",
       "      <td>0</td>\n",
       "      <td>0</td>\n",
       "      <td>0</td>\n",
       "    </tr>\n",
       "    <tr>\n",
       "      <th>1231</th>\n",
       "      <td>1</td>\n",
       "      <td>0</td>\n",
       "      <td>37.5</td>\n",
       "      <td>60.0</td>\n",
       "      <td>50.0</td>\n",
       "      <td>3.0</td>\n",
       "      <td>35.0</td>\n",
       "      <td>6.4</td>\n",
       "      <td>3.6</td>\n",
       "      <td>1</td>\n",
       "      <td>2209</td>\n",
       "      <td>0</td>\n",
       "      <td>0</td>\n",
       "      <td>1</td>\n",
       "    </tr>\n",
       "    <tr>\n",
       "      <th>1232</th>\n",
       "      <td>1</td>\n",
       "      <td>1</td>\n",
       "      <td>37.5</td>\n",
       "      <td>84.0</td>\n",
       "      <td>40.0</td>\n",
       "      <td>3.0</td>\n",
       "      <td>40.0</td>\n",
       "      <td>5.9</td>\n",
       "      <td>7.0</td>\n",
       "      <td>1</td>\n",
       "      <td>400</td>\n",
       "      <td>0</td>\n",
       "      <td>0</td>\n",
       "      <td>1</td>\n",
       "    </tr>\n",
       "    <tr>\n",
       "      <th>1233</th>\n",
       "      <td>1</td>\n",
       "      <td>0</td>\n",
       "      <td>38.1</td>\n",
       "      <td>70.0</td>\n",
       "      <td>16.0</td>\n",
       "      <td>2.0</td>\n",
       "      <td>58.0</td>\n",
       "      <td>74.0</td>\n",
       "      <td>2.0</td>\n",
       "      <td>1</td>\n",
       "      <td>2209</td>\n",
       "      <td>0</td>\n",
       "      <td>0</td>\n",
       "      <td>0</td>\n",
       "    </tr>\n",
       "    <tr>\n",
       "      <th>1234</th>\n",
       "      <td>1</td>\n",
       "      <td>0</td>\n",
       "      <td>38.1</td>\n",
       "      <td>54.0</td>\n",
       "      <td>36.0</td>\n",
       "      <td>3.0</td>\n",
       "      <td>45.0</td>\n",
       "      <td>6.0</td>\n",
       "      <td>3.6</td>\n",
       "      <td>1</td>\n",
       "      <td>2124</td>\n",
       "      <td>0</td>\n",
       "      <td>0</td>\n",
       "      <td>1</td>\n",
       "    </tr>\n",
       "  </tbody>\n",
       "</table>\n",
       "<p>1235 rows × 14 columns</p>\n",
       "</div>"
      ],
      "text/plain": [
       "      surgery  age  rectal_temp  pulse  respiratory_rate  \\\n",
       "0           1    0         38.1  132.0              24.0   \n",
       "1           1    0         37.5   88.0              12.0   \n",
       "2           1    0         38.3  120.0              28.0   \n",
       "3           1    0         37.1   72.0              30.0   \n",
       "4           0    0         38.0   52.0              48.0   \n",
       "...       ...  ...          ...    ...               ...   \n",
       "1230        1    0         38.5  129.0              48.0   \n",
       "1231        1    0         37.5   60.0              50.0   \n",
       "1232        1    1         37.5   84.0              40.0   \n",
       "1233        1    0         38.1   70.0              16.0   \n",
       "1234        1    0         38.1   54.0              36.0   \n",
       "\n",
       "      nasogastric_reflux_ph  packed_cell_volume  total_protein  \\\n",
       "0                       6.5                57.0            8.5   \n",
       "1                       2.0                33.0           64.0   \n",
       "2                       3.5                37.0            6.4   \n",
       "3                       2.0                53.0            7.0   \n",
       "4                       7.0                47.0            7.3   \n",
       "...                     ...                 ...            ...   \n",
       "1230                    2.0                57.0           66.0   \n",
       "1231                    3.0                35.0            6.4   \n",
       "1232                    3.0                40.0            5.9   \n",
       "1233                    2.0                58.0           74.0   \n",
       "1234                    3.0                45.0            6.0   \n",
       "\n",
       "      abdomo_protein  surgical_lesion  lesion_1  lesion_2  lesion_3  cp_data  \n",
       "0                3.4                1      2209         0         0        0  \n",
       "1                2.0                1      2208         0         0        0  \n",
       "2                3.4                1      5124         0         0        0  \n",
       "3                3.9                1      2208         0         0        1  \n",
       "4                2.6                0         0         0         0        1  \n",
       "...              ...              ...       ...       ...       ...      ...  \n",
       "1230             2.0                1      2206         0         0        0  \n",
       "1231             3.6                1      2209         0         0        1  \n",
       "1232             7.0                1       400         0         0        1  \n",
       "1233             2.0                1      2209         0         0        0  \n",
       "1234             3.6                1      2124         0         0        1  \n",
       "\n",
       "[1235 rows x 14 columns]"
      ]
     },
     "execution_count": 1316,
     "metadata": {},
     "output_type": "execute_result"
    }
   ],
   "source": [
    "x"
   ]
  },
  {
   "cell_type": "code",
   "execution_count": 1317,
   "metadata": {},
   "outputs": [],
   "source": [
    "model = RandomForestClassifier()"
   ]
  },
  {
   "cell_type": "code",
   "execution_count": 1318,
   "metadata": {},
   "outputs": [],
   "source": [
    "x_train,x_test,y_train,y_test = train_test_split(x,y, test_size=0.2)"
   ]
  },
  {
   "cell_type": "code",
   "execution_count": 1319,
   "metadata": {},
   "outputs": [
    {
     "data": {
      "text/html": [
       "<style>#sk-container-id-102 {color: black;}#sk-container-id-102 pre{padding: 0;}#sk-container-id-102 div.sk-toggleable {background-color: white;}#sk-container-id-102 label.sk-toggleable__label {cursor: pointer;display: block;width: 100%;margin-bottom: 0;padding: 0.3em;box-sizing: border-box;text-align: center;}#sk-container-id-102 label.sk-toggleable__label-arrow:before {content: \"▸\";float: left;margin-right: 0.25em;color: #696969;}#sk-container-id-102 label.sk-toggleable__label-arrow:hover:before {color: black;}#sk-container-id-102 div.sk-estimator:hover label.sk-toggleable__label-arrow:before {color: black;}#sk-container-id-102 div.sk-toggleable__content {max-height: 0;max-width: 0;overflow: hidden;text-align: left;background-color: #f0f8ff;}#sk-container-id-102 div.sk-toggleable__content pre {margin: 0.2em;color: black;border-radius: 0.25em;background-color: #f0f8ff;}#sk-container-id-102 input.sk-toggleable__control:checked~div.sk-toggleable__content {max-height: 200px;max-width: 100%;overflow: auto;}#sk-container-id-102 input.sk-toggleable__control:checked~label.sk-toggleable__label-arrow:before {content: \"▾\";}#sk-container-id-102 div.sk-estimator input.sk-toggleable__control:checked~label.sk-toggleable__label {background-color: #d4ebff;}#sk-container-id-102 div.sk-label input.sk-toggleable__control:checked~label.sk-toggleable__label {background-color: #d4ebff;}#sk-container-id-102 input.sk-hidden--visually {border: 0;clip: rect(1px 1px 1px 1px);clip: rect(1px, 1px, 1px, 1px);height: 1px;margin: -1px;overflow: hidden;padding: 0;position: absolute;width: 1px;}#sk-container-id-102 div.sk-estimator {font-family: monospace;background-color: #f0f8ff;border: 1px dotted black;border-radius: 0.25em;box-sizing: border-box;margin-bottom: 0.5em;}#sk-container-id-102 div.sk-estimator:hover {background-color: #d4ebff;}#sk-container-id-102 div.sk-parallel-item::after {content: \"\";width: 100%;border-bottom: 1px solid gray;flex-grow: 1;}#sk-container-id-102 div.sk-label:hover label.sk-toggleable__label {background-color: #d4ebff;}#sk-container-id-102 div.sk-serial::before {content: \"\";position: absolute;border-left: 1px solid gray;box-sizing: border-box;top: 0;bottom: 0;left: 50%;z-index: 0;}#sk-container-id-102 div.sk-serial {display: flex;flex-direction: column;align-items: center;background-color: white;padding-right: 0.2em;padding-left: 0.2em;position: relative;}#sk-container-id-102 div.sk-item {position: relative;z-index: 1;}#sk-container-id-102 div.sk-parallel {display: flex;align-items: stretch;justify-content: center;background-color: white;position: relative;}#sk-container-id-102 div.sk-item::before, #sk-container-id-102 div.sk-parallel-item::before {content: \"\";position: absolute;border-left: 1px solid gray;box-sizing: border-box;top: 0;bottom: 0;left: 50%;z-index: -1;}#sk-container-id-102 div.sk-parallel-item {display: flex;flex-direction: column;z-index: 1;position: relative;background-color: white;}#sk-container-id-102 div.sk-parallel-item:first-child::after {align-self: flex-end;width: 50%;}#sk-container-id-102 div.sk-parallel-item:last-child::after {align-self: flex-start;width: 50%;}#sk-container-id-102 div.sk-parallel-item:only-child::after {width: 0;}#sk-container-id-102 div.sk-dashed-wrapped {border: 1px dashed gray;margin: 0 0.4em 0.5em 0.4em;box-sizing: border-box;padding-bottom: 0.4em;background-color: white;}#sk-container-id-102 div.sk-label label {font-family: monospace;font-weight: bold;display: inline-block;line-height: 1.2em;}#sk-container-id-102 div.sk-label-container {text-align: center;}#sk-container-id-102 div.sk-container {/* jupyter's `normalize.less` sets `[hidden] { display: none; }` but bootstrap.min.css set `[hidden] { display: none !important; }` so we also need the `!important` here to be able to override the default hidden behavior on the sphinx rendered scikit-learn.org. See: https://github.com/scikit-learn/scikit-learn/issues/21755 */display: inline-block !important;position: relative;}#sk-container-id-102 div.sk-text-repr-fallback {display: none;}</style><div id=\"sk-container-id-102\" class=\"sk-top-container\"><div class=\"sk-text-repr-fallback\"><pre>RandomForestClassifier()</pre><b>In a Jupyter environment, please rerun this cell to show the HTML representation or trust the notebook. <br />On GitHub, the HTML representation is unable to render, please try loading this page with nbviewer.org.</b></div><div class=\"sk-container\" hidden><div class=\"sk-item\"><div class=\"sk-estimator sk-toggleable\"><input class=\"sk-toggleable__control sk-hidden--visually\" id=\"sk-estimator-id-102\" type=\"checkbox\" checked><label for=\"sk-estimator-id-102\" class=\"sk-toggleable__label sk-toggleable__label-arrow\">RandomForestClassifier</label><div class=\"sk-toggleable__content\"><pre>RandomForestClassifier()</pre></div></div></div></div></div>"
      ],
      "text/plain": [
       "RandomForestClassifier()"
      ]
     },
     "execution_count": 1319,
     "metadata": {},
     "output_type": "execute_result"
    }
   ],
   "source": [
    "model.fit(x_train,y_train)"
   ]
  },
  {
   "cell_type": "code",
   "execution_count": 1320,
   "metadata": {},
   "outputs": [],
   "source": [
    "test = model.predict(x_test)"
   ]
  },
  {
   "cell_type": "code",
   "execution_count": 1321,
   "metadata": {},
   "outputs": [],
   "source": [
    "# temp = test.tolist()"
   ]
  },
  {
   "cell_type": "code",
   "execution_count": 1322,
   "metadata": {},
   "outputs": [],
   "source": [
    "# y_test = y_test.to_list()"
   ]
  },
  {
   "cell_type": "code",
   "execution_count": 1323,
   "metadata": {},
   "outputs": [
    {
     "name": "stdout",
     "output_type": "stream",
     "text": [
      "0.7044534412955465\n"
     ]
    }
   ],
   "source": [
    "print(accuracy_score(y_pred=test,y_true=y_test))"
   ]
  },
  {
   "cell_type": "code",
   "execution_count": 1324,
   "metadata": {},
   "outputs": [],
   "source": [
    "svm = SVC()"
   ]
  },
  {
   "cell_type": "code",
   "execution_count": 1325,
   "metadata": {},
   "outputs": [
    {
     "data": {
      "text/html": [
       "<style>#sk-container-id-103 {color: black;}#sk-container-id-103 pre{padding: 0;}#sk-container-id-103 div.sk-toggleable {background-color: white;}#sk-container-id-103 label.sk-toggleable__label {cursor: pointer;display: block;width: 100%;margin-bottom: 0;padding: 0.3em;box-sizing: border-box;text-align: center;}#sk-container-id-103 label.sk-toggleable__label-arrow:before {content: \"▸\";float: left;margin-right: 0.25em;color: #696969;}#sk-container-id-103 label.sk-toggleable__label-arrow:hover:before {color: black;}#sk-container-id-103 div.sk-estimator:hover label.sk-toggleable__label-arrow:before {color: black;}#sk-container-id-103 div.sk-toggleable__content {max-height: 0;max-width: 0;overflow: hidden;text-align: left;background-color: #f0f8ff;}#sk-container-id-103 div.sk-toggleable__content pre {margin: 0.2em;color: black;border-radius: 0.25em;background-color: #f0f8ff;}#sk-container-id-103 input.sk-toggleable__control:checked~div.sk-toggleable__content {max-height: 200px;max-width: 100%;overflow: auto;}#sk-container-id-103 input.sk-toggleable__control:checked~label.sk-toggleable__label-arrow:before {content: \"▾\";}#sk-container-id-103 div.sk-estimator input.sk-toggleable__control:checked~label.sk-toggleable__label {background-color: #d4ebff;}#sk-container-id-103 div.sk-label input.sk-toggleable__control:checked~label.sk-toggleable__label {background-color: #d4ebff;}#sk-container-id-103 input.sk-hidden--visually {border: 0;clip: rect(1px 1px 1px 1px);clip: rect(1px, 1px, 1px, 1px);height: 1px;margin: -1px;overflow: hidden;padding: 0;position: absolute;width: 1px;}#sk-container-id-103 div.sk-estimator {font-family: monospace;background-color: #f0f8ff;border: 1px dotted black;border-radius: 0.25em;box-sizing: border-box;margin-bottom: 0.5em;}#sk-container-id-103 div.sk-estimator:hover {background-color: #d4ebff;}#sk-container-id-103 div.sk-parallel-item::after {content: \"\";width: 100%;border-bottom: 1px solid gray;flex-grow: 1;}#sk-container-id-103 div.sk-label:hover label.sk-toggleable__label {background-color: #d4ebff;}#sk-container-id-103 div.sk-serial::before {content: \"\";position: absolute;border-left: 1px solid gray;box-sizing: border-box;top: 0;bottom: 0;left: 50%;z-index: 0;}#sk-container-id-103 div.sk-serial {display: flex;flex-direction: column;align-items: center;background-color: white;padding-right: 0.2em;padding-left: 0.2em;position: relative;}#sk-container-id-103 div.sk-item {position: relative;z-index: 1;}#sk-container-id-103 div.sk-parallel {display: flex;align-items: stretch;justify-content: center;background-color: white;position: relative;}#sk-container-id-103 div.sk-item::before, #sk-container-id-103 div.sk-parallel-item::before {content: \"\";position: absolute;border-left: 1px solid gray;box-sizing: border-box;top: 0;bottom: 0;left: 50%;z-index: -1;}#sk-container-id-103 div.sk-parallel-item {display: flex;flex-direction: column;z-index: 1;position: relative;background-color: white;}#sk-container-id-103 div.sk-parallel-item:first-child::after {align-self: flex-end;width: 50%;}#sk-container-id-103 div.sk-parallel-item:last-child::after {align-self: flex-start;width: 50%;}#sk-container-id-103 div.sk-parallel-item:only-child::after {width: 0;}#sk-container-id-103 div.sk-dashed-wrapped {border: 1px dashed gray;margin: 0 0.4em 0.5em 0.4em;box-sizing: border-box;padding-bottom: 0.4em;background-color: white;}#sk-container-id-103 div.sk-label label {font-family: monospace;font-weight: bold;display: inline-block;line-height: 1.2em;}#sk-container-id-103 div.sk-label-container {text-align: center;}#sk-container-id-103 div.sk-container {/* jupyter's `normalize.less` sets `[hidden] { display: none; }` but bootstrap.min.css set `[hidden] { display: none !important; }` so we also need the `!important` here to be able to override the default hidden behavior on the sphinx rendered scikit-learn.org. See: https://github.com/scikit-learn/scikit-learn/issues/21755 */display: inline-block !important;position: relative;}#sk-container-id-103 div.sk-text-repr-fallback {display: none;}</style><div id=\"sk-container-id-103\" class=\"sk-top-container\"><div class=\"sk-text-repr-fallback\"><pre>SVC()</pre><b>In a Jupyter environment, please rerun this cell to show the HTML representation or trust the notebook. <br />On GitHub, the HTML representation is unable to render, please try loading this page with nbviewer.org.</b></div><div class=\"sk-container\" hidden><div class=\"sk-item\"><div class=\"sk-estimator sk-toggleable\"><input class=\"sk-toggleable__control sk-hidden--visually\" id=\"sk-estimator-id-103\" type=\"checkbox\" checked><label for=\"sk-estimator-id-103\" class=\"sk-toggleable__label sk-toggleable__label-arrow\">SVC</label><div class=\"sk-toggleable__content\"><pre>SVC()</pre></div></div></div></div></div>"
      ],
      "text/plain": [
       "SVC()"
      ]
     },
     "execution_count": 1325,
     "metadata": {},
     "output_type": "execute_result"
    }
   ],
   "source": [
    "svm.fit(x_train,y_train)"
   ]
  },
  {
   "cell_type": "code",
   "execution_count": 1326,
   "metadata": {},
   "outputs": [],
   "source": [
    "hasil_svm = svm.predict(x_test)"
   ]
  },
  {
   "cell_type": "code",
   "execution_count": 1327,
   "metadata": {},
   "outputs": [],
   "source": [
    "# temp1 = hasil_svm.tolist()"
   ]
  },
  {
   "cell_type": "code",
   "execution_count": 1328,
   "metadata": {},
   "outputs": [
    {
     "name": "stdout",
     "output_type": "stream",
     "text": [
      "0.5465587044534413\n"
     ]
    }
   ],
   "source": [
    "print(accuracy_score(y_test,hasil_svm))"
   ]
  },
  {
   "cell_type": "code",
   "execution_count": 1329,
   "metadata": {},
   "outputs": [],
   "source": [
    "data_test = pd.read_csv(\"test.csv\")\n",
    "id = data_test[\"id\"]\n",
    "data_test = data_test.drop(columns=[\"id\",\"hospital_number\"])\n",
    "data_test = data_test.dropna(axis=1)"
   ]
  },
  {
   "cell_type": "code",
   "execution_count": 1330,
   "metadata": {},
   "outputs": [],
   "source": [
    "for column in data_test.columns:\n",
    "    if (data_test[column].dtype == \"object\"):\n",
    "        le = LabelEncoder()\n",
    "        data_test[column] = le.fit_transform(data_test[column])"
   ]
  },
  {
   "cell_type": "code",
   "execution_count": 1331,
   "metadata": {},
   "outputs": [
    {
     "name": "stdout",
     "output_type": "stream",
     "text": [
      "<class 'pandas.core.frame.DataFrame'>\n",
      "RangeIndex: 824 entries, 0 to 823\n",
      "Data columns (total 14 columns):\n",
      " #   Column                 Non-Null Count  Dtype  \n",
      "---  ------                 --------------  -----  \n",
      " 0   surgery                824 non-null    int32  \n",
      " 1   age                    824 non-null    int32  \n",
      " 2   rectal_temp            824 non-null    float64\n",
      " 3   pulse                  824 non-null    float64\n",
      " 4   respiratory_rate       824 non-null    float64\n",
      " 5   nasogastric_reflux_ph  824 non-null    float64\n",
      " 6   packed_cell_volume     824 non-null    float64\n",
      " 7   total_protein          824 non-null    float64\n",
      " 8   abdomo_protein         824 non-null    float64\n",
      " 9   surgical_lesion        824 non-null    int32  \n",
      " 10  lesion_1               824 non-null    int64  \n",
      " 11  lesion_2               824 non-null    int64  \n",
      " 12  lesion_3               824 non-null    int64  \n",
      " 13  cp_data                824 non-null    int32  \n",
      "dtypes: float64(7), int32(4), int64(3)\n",
      "memory usage: 77.4 KB\n"
     ]
    }
   ],
   "source": [
    "data_test.info()"
   ]
  },
  {
   "cell_type": "code",
   "execution_count": 1332,
   "metadata": {},
   "outputs": [],
   "source": [
    "hasil = model.predict(data_test)"
   ]
  },
  {
   "cell_type": "code",
   "execution_count": 1333,
   "metadata": {},
   "outputs": [
    {
     "name": "stdout",
     "output_type": "stream",
     "text": [
      "['lived' 'lived' 'lived' 'euthanized' 'lived' 'died' 'lived' 'died'\n",
      " 'lived' 'lived' 'lived' 'lived' 'euthanized' 'lived' 'died' 'lived'\n",
      " 'lived' 'died' 'died' 'died' 'died' 'died' 'died' 'lived' 'died' 'died'\n",
      " 'died' 'euthanized' 'lived' 'died' 'lived' 'died' 'died' 'died' 'lived'\n",
      " 'died' 'lived' 'lived' 'died' 'lived' 'died' 'euthanized' 'died'\n",
      " 'euthanized' 'died' 'died' 'died' 'lived' 'lived' 'died' 'died' 'lived'\n",
      " 'died' 'died' 'lived' 'lived' 'died' 'died' 'euthanized' 'died' 'died'\n",
      " 'died' 'died' 'died' 'died' 'lived' 'euthanized' 'died' 'lived' 'lived'\n",
      " 'died' 'died' 'lived' 'lived' 'euthanized' 'died' 'euthanized' 'died'\n",
      " 'died' 'died' 'died' 'lived' 'lived' 'euthanized' 'lived' 'lived' 'lived'\n",
      " 'euthanized' 'euthanized' 'lived' 'euthanized' 'lived' 'died'\n",
      " 'euthanized' 'died' 'euthanized' 'lived' 'died' 'died' 'died' 'died'\n",
      " 'lived' 'lived' 'lived' 'euthanized' 'euthanized' 'died' 'died' 'lived'\n",
      " 'lived' 'died' 'euthanized' 'euthanized' 'died' 'lived' 'died' 'lived'\n",
      " 'died' 'died' 'lived' 'died' 'lived' 'lived' 'lived' 'died' 'lived'\n",
      " 'died' 'euthanized' 'euthanized' 'lived' 'lived' 'lived' 'lived' 'died'\n",
      " 'died' 'lived' 'lived' 'lived' 'lived' 'lived' 'died' 'died' 'died'\n",
      " 'died' 'died' 'lived' 'died' 'euthanized' 'died' 'lived' 'died' 'died'\n",
      " 'lived' 'lived' 'died' 'lived' 'died' 'died' 'lived' 'lived' 'lived'\n",
      " 'died' 'lived' 'euthanized' 'died' 'died' 'lived' 'lived' 'euthanized'\n",
      " 'lived' 'died' 'lived' 'lived' 'euthanized' 'lived' 'lived' 'lived'\n",
      " 'lived' 'lived' 'lived' 'died' 'lived' 'lived' 'lived' 'died' 'lived'\n",
      " 'lived' 'euthanized' 'lived' 'lived' 'lived' 'lived' 'lived' 'died'\n",
      " 'lived' 'died' 'lived' 'lived' 'died' 'died' 'died' 'euthanized' 'lived'\n",
      " 'lived' 'died' 'lived' 'lived' 'died' 'euthanized' 'died' 'died' 'lived'\n",
      " 'died' 'lived' 'died' 'euthanized' 'lived' 'lived' 'euthanized' 'lived'\n",
      " 'died' 'euthanized' 'lived' 'died' 'died' 'died' 'died' 'lived' 'died'\n",
      " 'lived' 'lived' 'lived' 'died' 'lived' 'euthanized' 'lived' 'lived'\n",
      " 'died' 'died' 'died' 'lived' 'died' 'lived' 'lived' 'lived' 'lived'\n",
      " 'lived' 'lived' 'died' 'lived' 'died' 'lived' 'died' 'euthanized' 'died'\n",
      " 'died' 'lived' 'died' 'euthanized' 'lived' 'died' 'died' 'died' 'died'\n",
      " 'died' 'euthanized' 'lived' 'died' 'lived' 'lived' 'lived' 'died'\n",
      " 'euthanized' 'lived' 'lived' 'lived' 'died' 'died' 'died' 'euthanized'\n",
      " 'died' 'lived' 'died' 'died' 'died' 'died' 'died' 'lived' 'lived' 'died'\n",
      " 'lived' 'died' 'died' 'euthanized' 'died' 'lived' 'lived' 'died' 'lived'\n",
      " 'died' 'lived' 'died' 'lived' 'lived' 'euthanized' 'lived' 'euthanized'\n",
      " 'lived' 'euthanized' 'died' 'lived' 'lived' 'died' 'died' 'lived' 'lived'\n",
      " 'lived' 'died' 'died' 'lived' 'died' 'died' 'lived' 'euthanized' 'died'\n",
      " 'died' 'died' 'lived' 'died' 'lived' 'lived' 'lived' 'lived' 'died'\n",
      " 'died' 'died' 'died' 'lived' 'lived' 'died' 'lived' 'died' 'died' 'lived'\n",
      " 'lived' 'died' 'lived' 'died' 'lived' 'euthanized' 'died' 'euthanized'\n",
      " 'lived' 'died' 'euthanized' 'lived' 'euthanized' 'lived' 'died' 'lived'\n",
      " 'died' 'euthanized' 'died' 'died' 'lived' 'died' 'lived' 'lived' 'died'\n",
      " 'lived' 'died' 'lived' 'lived' 'died' 'lived' 'died' 'euthanized' 'died'\n",
      " 'died' 'lived' 'died' 'died' 'lived' 'died' 'lived' 'lived' 'died'\n",
      " 'euthanized' 'died' 'died' 'lived' 'died' 'euthanized' 'euthanized'\n",
      " 'euthanized' 'euthanized' 'lived' 'lived' 'lived' 'died' 'lived' 'died'\n",
      " 'died' 'died' 'euthanized' 'lived' 'euthanized' 'lived' 'euthanized'\n",
      " 'lived' 'lived' 'lived' 'died' 'died' 'died' 'died' 'lived' 'lived'\n",
      " 'lived' 'euthanized' 'lived' 'died' 'died' 'died' 'died' 'died' 'died'\n",
      " 'lived' 'lived' 'lived' 'died' 'euthanized' 'died' 'died' 'lived' 'died'\n",
      " 'lived' 'lived' 'lived' 'died' 'died' 'lived' 'lived' 'died' 'euthanized'\n",
      " 'lived' 'lived' 'died' 'lived' 'died' 'euthanized' 'euthanized' 'died'\n",
      " 'died' 'died' 'lived' 'lived' 'lived' 'died' 'lived' 'lived' 'died'\n",
      " 'died' 'died' 'lived' 'lived' 'euthanized' 'lived' 'died' 'lived' 'lived'\n",
      " 'died' 'lived' 'euthanized' 'lived' 'died' 'lived' 'lived' 'lived' 'died'\n",
      " 'died' 'died' 'lived' 'euthanized' 'lived' 'died' 'died' 'lived' 'died'\n",
      " 'died' 'died' 'died' 'lived' 'died' 'died' 'lived' 'died' 'euthanized'\n",
      " 'lived' 'lived' 'euthanized' 'lived' 'lived' 'euthanized' 'lived' 'lived'\n",
      " 'lived' 'lived' 'lived' 'euthanized' 'died' 'died' 'euthanized'\n",
      " 'euthanized' 'died' 'lived' 'lived' 'lived' 'died' 'lived' 'lived' 'died'\n",
      " 'lived' 'lived' 'lived' 'died' 'died' 'euthanized' 'lived' 'euthanized'\n",
      " 'died' 'euthanized' 'lived' 'died' 'died' 'died' 'died' 'lived' 'lived'\n",
      " 'lived' 'lived' 'lived' 'died' 'lived' 'died' 'euthanized' 'died' 'died'\n",
      " 'lived' 'died' 'euthanized' 'euthanized' 'died' 'died' 'euthanized'\n",
      " 'euthanized' 'died' 'died' 'died' 'euthanized' 'died' 'lived' 'lived'\n",
      " 'died' 'died' 'died' 'lived' 'lived' 'died' 'died' 'died' 'lived'\n",
      " 'euthanized' 'died' 'lived' 'euthanized' 'euthanized' 'died' 'lived'\n",
      " 'lived' 'died' 'lived' 'lived' 'lived' 'lived' 'lived' 'lived' 'lived'\n",
      " 'lived' 'lived' 'lived' 'lived' 'euthanized' 'lived' 'died' 'died'\n",
      " 'lived' 'died' 'lived' 'died' 'lived' 'died' 'died' 'lived' 'died'\n",
      " 'lived' 'lived' 'euthanized' 'lived' 'died' 'euthanized' 'euthanized'\n",
      " 'died' 'lived' 'lived' 'died' 'lived' 'euthanized' 'lived' 'lived' 'died'\n",
      " 'died' 'died' 'lived' 'euthanized' 'lived' 'lived' 'died' 'died' 'lived'\n",
      " 'euthanized' 'lived' 'lived' 'died' 'died' 'died' 'lived' 'lived' 'died'\n",
      " 'lived' 'lived' 'lived' 'euthanized' 'lived' 'euthanized' 'died' 'lived'\n",
      " 'died' 'lived' 'lived' 'euthanized' 'died' 'lived' 'euthanized'\n",
      " 'euthanized' 'lived' 'euthanized' 'lived' 'died' 'died' 'euthanized'\n",
      " 'lived' 'died' 'died' 'lived' 'lived' 'died' 'lived' 'died' 'euthanized'\n",
      " 'euthanized' 'euthanized' 'died' 'euthanized' 'died' 'lived' 'lived'\n",
      " 'euthanized' 'lived' 'lived' 'died' 'euthanized' 'lived' 'lived' 'lived'\n",
      " 'lived' 'lived' 'died' 'lived' 'euthanized' 'died' 'lived' 'lived'\n",
      " 'lived' 'died' 'lived' 'lived' 'lived' 'died' 'died' 'died' 'euthanized'\n",
      " 'euthanized' 'died' 'lived' 'euthanized' 'died' 'lived' 'euthanized'\n",
      " 'lived' 'euthanized' 'died' 'died' 'died' 'died' 'euthanized' 'died'\n",
      " 'lived' 'lived' 'lived' 'lived' 'lived' 'lived' 'died' 'euthanized'\n",
      " 'lived' 'died' 'lived' 'euthanized' 'died' 'died' 'died' 'died' 'lived'\n",
      " 'lived' 'lived' 'lived' 'died' 'euthanized' 'euthanized' 'died' 'lived'\n",
      " 'euthanized' 'lived' 'died' 'died' 'lived' 'died' 'died' 'died' 'lived'\n",
      " 'lived' 'died' 'died' 'lived' 'lived' 'lived' 'lived' 'lived' 'died'\n",
      " 'died' 'lived' 'lived' 'lived' 'lived' 'lived' 'died' 'euthanized'\n",
      " 'lived' 'lived' 'died' 'died' 'died' 'died' 'lived' 'lived' 'died' 'died'\n",
      " 'died' 'euthanized' 'died' 'lived' 'lived' 'lived' 'died' 'lived'\n",
      " 'euthanized' 'died' 'euthanized' 'euthanized' 'died' 'lived' 'lived'\n",
      " 'euthanized' 'lived' 'euthanized' 'lived' 'lived' 'died' 'lived'\n",
      " 'euthanized' 'lived' 'died' 'died' 'euthanized' 'euthanized' 'died'\n",
      " 'lived' 'lived' 'euthanized' 'euthanized' 'lived' 'lived' 'euthanized'\n",
      " 'died' 'euthanized' 'died' 'lived' 'euthanized' 'died' 'euthanized'\n",
      " 'died' 'lived' 'lived']\n"
     ]
    }
   ],
   "source": [
    "print(hasil)"
   ]
  },
  {
   "cell_type": "code",
   "execution_count": 1334,
   "metadata": {},
   "outputs": [],
   "source": [
    "hasil = pd.Series(hasil)"
   ]
  },
  {
   "cell_type": "code",
   "execution_count": 1335,
   "metadata": {},
   "outputs": [
    {
     "data": {
      "text/plain": [
       "0           lived\n",
       "1           lived\n",
       "2           lived\n",
       "3      euthanized\n",
       "4           lived\n",
       "          ...    \n",
       "819          died\n",
       "820    euthanized\n",
       "821          died\n",
       "822         lived\n",
       "823         lived\n",
       "Length: 824, dtype: object"
      ]
     },
     "execution_count": 1335,
     "metadata": {},
     "output_type": "execute_result"
    }
   ],
   "source": [
    "hasil"
   ]
  },
  {
   "cell_type": "code",
   "execution_count": 1336,
   "metadata": {},
   "outputs": [],
   "source": [
    "hasil = pd.concat([id,hasil], axis=1)"
   ]
  },
  {
   "cell_type": "code",
   "execution_count": 1337,
   "metadata": {},
   "outputs": [
    {
     "data": {
      "text/html": [
       "<div>\n",
       "<style scoped>\n",
       "    .dataframe tbody tr th:only-of-type {\n",
       "        vertical-align: middle;\n",
       "    }\n",
       "\n",
       "    .dataframe tbody tr th {\n",
       "        vertical-align: top;\n",
       "    }\n",
       "\n",
       "    .dataframe thead th {\n",
       "        text-align: right;\n",
       "    }\n",
       "</style>\n",
       "<table border=\"1\" class=\"dataframe\">\n",
       "  <thead>\n",
       "    <tr style=\"text-align: right;\">\n",
       "      <th></th>\n",
       "      <th>id</th>\n",
       "      <th>0</th>\n",
       "    </tr>\n",
       "  </thead>\n",
       "  <tbody>\n",
       "    <tr>\n",
       "      <th>0</th>\n",
       "      <td>1235</td>\n",
       "      <td>lived</td>\n",
       "    </tr>\n",
       "    <tr>\n",
       "      <th>1</th>\n",
       "      <td>1236</td>\n",
       "      <td>lived</td>\n",
       "    </tr>\n",
       "    <tr>\n",
       "      <th>2</th>\n",
       "      <td>1237</td>\n",
       "      <td>lived</td>\n",
       "    </tr>\n",
       "    <tr>\n",
       "      <th>3</th>\n",
       "      <td>1238</td>\n",
       "      <td>euthanized</td>\n",
       "    </tr>\n",
       "    <tr>\n",
       "      <th>4</th>\n",
       "      <td>1239</td>\n",
       "      <td>lived</td>\n",
       "    </tr>\n",
       "  </tbody>\n",
       "</table>\n",
       "</div>"
      ],
      "text/plain": [
       "     id           0\n",
       "0  1235       lived\n",
       "1  1236       lived\n",
       "2  1237       lived\n",
       "3  1238  euthanized\n",
       "4  1239       lived"
      ]
     },
     "execution_count": 1337,
     "metadata": {},
     "output_type": "execute_result"
    }
   ],
   "source": [
    "hasil.head()"
   ]
  },
  {
   "cell_type": "code",
   "execution_count": 1338,
   "metadata": {},
   "outputs": [],
   "source": [
    "hasil.to_csv(\"hasil.csv\",index=False)"
   ]
  },
  {
   "cell_type": "code",
   "execution_count": null,
   "metadata": {},
   "outputs": [],
   "source": []
  }
 ],
 "metadata": {
  "kernelspec": {
   "display_name": "Python 3",
   "language": "python",
   "name": "python3"
  },
  "language_info": {
   "codemirror_mode": {
    "name": "ipython",
    "version": 3
   },
   "file_extension": ".py",
   "mimetype": "text/x-python",
   "name": "python",
   "nbconvert_exporter": "python",
   "pygments_lexer": "ipython3",
   "version": "3.11.9"
  }
 },
 "nbformat": 4,
 "nbformat_minor": 2
}
