{
 "cells": [
  {
   "cell_type": "code",
   "execution_count": 263,
   "metadata": {},
   "outputs": [],
   "source": [
    "import pandas as pd\n",
    "from sklearn.impute import SimpleImputer \n",
    "from sklearn.svm import SVC\n",
    "from sklearn.model_selection import train_test_split\n",
    "from sklearn.preprocessing import LabelEncoder\n",
    "from sklearn.tree import DecisionTreeClassifier\n",
    "from sklearn.neighbors import KNeighborsClassifier\n",
    "from sklearn.naive_bayes import GaussianNB\n",
    "from imblearn.under_sampling import RandomUnderSampler\n",
    "from sklearn.feature_selection import VarianceThreshold"
   ]
  },
  {
   "cell_type": "markdown",
   "metadata": {},
   "source": [
    "Membaca data"
   ]
  },
  {
   "cell_type": "code",
   "execution_count": 264,
   "metadata": {},
   "outputs": [],
   "source": [
    "data = pd.read_csv(\"train.csv\")\n",
    "\n",
    "data = data.dropna()"
   ]
  },
  {
   "cell_type": "code",
   "execution_count": 265,
   "metadata": {},
   "outputs": [],
   "source": [
    "# under_sampler = RandomUnderSampler(sampling_strategy={\n",
    "#     'lived': 100,\n",
    "#     'died': 100,\n",
    "#     'euthanized': 100\n",
    "# })"
   ]
  },
  {
   "cell_type": "code",
   "execution_count": 266,
   "metadata": {},
   "outputs": [],
   "source": [
    "target = data[data.columns[-1]]\n",
    "data = data.drop(columns=['id','hospital_number','outcome'])"
   ]
  },
  {
   "cell_type": "code",
   "execution_count": 267,
   "metadata": {},
   "outputs": [],
   "source": [
    "# data,target = under_sampler.fit_resample(data,target)"
   ]
  },
  {
   "cell_type": "code",
   "execution_count": 268,
   "metadata": {},
   "outputs": [
    {
     "data": {
      "text/plain": [
       "(771, 26)"
      ]
     },
     "execution_count": 268,
     "metadata": {},
     "output_type": "execute_result"
    }
   ],
   "source": [
    "data.shape"
   ]
  },
  {
   "cell_type": "code",
   "execution_count": 269,
   "metadata": {},
   "outputs": [
    {
     "data": {
      "text/plain": [
       "surgery                   object\n",
       "age                       object\n",
       "rectal_temp              float64\n",
       "pulse                    float64\n",
       "respiratory_rate         float64\n",
       "temp_of_extremities       object\n",
       "peripheral_pulse          object\n",
       "mucous_membrane           object\n",
       "capillary_refill_time     object\n",
       "pain                      object\n",
       "peristalsis               object\n",
       "abdominal_distention      object\n",
       "nasogastric_tube          object\n",
       "nasogastric_reflux        object\n",
       "nasogastric_reflux_ph    float64\n",
       "rectal_exam_feces         object\n",
       "abdomen                   object\n",
       "packed_cell_volume       float64\n",
       "total_protein            float64\n",
       "abdomo_appearance         object\n",
       "abdomo_protein           float64\n",
       "surgical_lesion           object\n",
       "lesion_1                   int64\n",
       "lesion_2                   int64\n",
       "lesion_3                   int64\n",
       "cp_data                   object\n",
       "dtype: object"
      ]
     },
     "execution_count": 269,
     "metadata": {},
     "output_type": "execute_result"
    }
   ],
   "source": [
    "data.dtypes"
   ]
  },
  {
   "cell_type": "code",
   "execution_count": 270,
   "metadata": {},
   "outputs": [
    {
     "data": {
      "text/html": [
       "<div>\n",
       "<style scoped>\n",
       "    .dataframe tbody tr th:only-of-type {\n",
       "        vertical-align: middle;\n",
       "    }\n",
       "\n",
       "    .dataframe tbody tr th {\n",
       "        vertical-align: top;\n",
       "    }\n",
       "\n",
       "    .dataframe thead th {\n",
       "        text-align: right;\n",
       "    }\n",
       "</style>\n",
       "<table border=\"1\" class=\"dataframe\">\n",
       "  <thead>\n",
       "    <tr style=\"text-align: right;\">\n",
       "      <th></th>\n",
       "      <th>surgery</th>\n",
       "      <th>age</th>\n",
       "      <th>rectal_temp</th>\n",
       "      <th>pulse</th>\n",
       "      <th>respiratory_rate</th>\n",
       "      <th>temp_of_extremities</th>\n",
       "      <th>peripheral_pulse</th>\n",
       "      <th>mucous_membrane</th>\n",
       "      <th>capillary_refill_time</th>\n",
       "      <th>pain</th>\n",
       "      <th>...</th>\n",
       "      <th>abdomen</th>\n",
       "      <th>packed_cell_volume</th>\n",
       "      <th>total_protein</th>\n",
       "      <th>abdomo_appearance</th>\n",
       "      <th>abdomo_protein</th>\n",
       "      <th>surgical_lesion</th>\n",
       "      <th>lesion_1</th>\n",
       "      <th>lesion_2</th>\n",
       "      <th>lesion_3</th>\n",
       "      <th>cp_data</th>\n",
       "    </tr>\n",
       "  </thead>\n",
       "  <tbody>\n",
       "    <tr>\n",
       "      <th>0</th>\n",
       "      <td>yes</td>\n",
       "      <td>adult</td>\n",
       "      <td>38.1</td>\n",
       "      <td>132.0</td>\n",
       "      <td>24.0</td>\n",
       "      <td>cool</td>\n",
       "      <td>reduced</td>\n",
       "      <td>dark_cyanotic</td>\n",
       "      <td>more_3_sec</td>\n",
       "      <td>depressed</td>\n",
       "      <td>...</td>\n",
       "      <td>distend_small</td>\n",
       "      <td>57.0</td>\n",
       "      <td>8.5</td>\n",
       "      <td>serosanguious</td>\n",
       "      <td>3.4</td>\n",
       "      <td>yes</td>\n",
       "      <td>2209</td>\n",
       "      <td>0</td>\n",
       "      <td>0</td>\n",
       "      <td>no</td>\n",
       "    </tr>\n",
       "    <tr>\n",
       "      <th>1</th>\n",
       "      <td>yes</td>\n",
       "      <td>adult</td>\n",
       "      <td>37.5</td>\n",
       "      <td>88.0</td>\n",
       "      <td>12.0</td>\n",
       "      <td>cool</td>\n",
       "      <td>normal</td>\n",
       "      <td>pale_cyanotic</td>\n",
       "      <td>more_3_sec</td>\n",
       "      <td>mild_pain</td>\n",
       "      <td>...</td>\n",
       "      <td>distend_small</td>\n",
       "      <td>33.0</td>\n",
       "      <td>64.0</td>\n",
       "      <td>serosanguious</td>\n",
       "      <td>2.0</td>\n",
       "      <td>yes</td>\n",
       "      <td>2208</td>\n",
       "      <td>0</td>\n",
       "      <td>0</td>\n",
       "      <td>no</td>\n",
       "    </tr>\n",
       "    <tr>\n",
       "      <th>3</th>\n",
       "      <td>yes</td>\n",
       "      <td>adult</td>\n",
       "      <td>37.1</td>\n",
       "      <td>72.0</td>\n",
       "      <td>30.0</td>\n",
       "      <td>cold</td>\n",
       "      <td>reduced</td>\n",
       "      <td>pale_pink</td>\n",
       "      <td>more_3_sec</td>\n",
       "      <td>mild_pain</td>\n",
       "      <td>...</td>\n",
       "      <td>distend_small</td>\n",
       "      <td>53.0</td>\n",
       "      <td>7.0</td>\n",
       "      <td>cloudy</td>\n",
       "      <td>3.9</td>\n",
       "      <td>yes</td>\n",
       "      <td>2208</td>\n",
       "      <td>0</td>\n",
       "      <td>0</td>\n",
       "      <td>yes</td>\n",
       "    </tr>\n",
       "    <tr>\n",
       "      <th>4</th>\n",
       "      <td>no</td>\n",
       "      <td>adult</td>\n",
       "      <td>38.0</td>\n",
       "      <td>52.0</td>\n",
       "      <td>48.0</td>\n",
       "      <td>normal</td>\n",
       "      <td>normal</td>\n",
       "      <td>normal_pink</td>\n",
       "      <td>less_3_sec</td>\n",
       "      <td>alert</td>\n",
       "      <td>...</td>\n",
       "      <td>normal</td>\n",
       "      <td>47.0</td>\n",
       "      <td>7.3</td>\n",
       "      <td>cloudy</td>\n",
       "      <td>2.6</td>\n",
       "      <td>no</td>\n",
       "      <td>0</td>\n",
       "      <td>0</td>\n",
       "      <td>0</td>\n",
       "      <td>yes</td>\n",
       "    </tr>\n",
       "    <tr>\n",
       "      <th>5</th>\n",
       "      <td>no</td>\n",
       "      <td>adult</td>\n",
       "      <td>38.1</td>\n",
       "      <td>56.0</td>\n",
       "      <td>32.0</td>\n",
       "      <td>normal</td>\n",
       "      <td>normal</td>\n",
       "      <td>bright_pink</td>\n",
       "      <td>less_3_sec</td>\n",
       "      <td>depressed</td>\n",
       "      <td>...</td>\n",
       "      <td>firm</td>\n",
       "      <td>49.0</td>\n",
       "      <td>8.0</td>\n",
       "      <td>cloudy</td>\n",
       "      <td>2.8</td>\n",
       "      <td>no</td>\n",
       "      <td>0</td>\n",
       "      <td>0</td>\n",
       "      <td>0</td>\n",
       "      <td>yes</td>\n",
       "    </tr>\n",
       "  </tbody>\n",
       "</table>\n",
       "<p>5 rows × 26 columns</p>\n",
       "</div>"
      ],
      "text/plain": [
       "  surgery    age  rectal_temp  pulse  respiratory_rate temp_of_extremities  \\\n",
       "0     yes  adult         38.1  132.0              24.0                cool   \n",
       "1     yes  adult         37.5   88.0              12.0                cool   \n",
       "3     yes  adult         37.1   72.0              30.0                cold   \n",
       "4      no  adult         38.0   52.0              48.0              normal   \n",
       "5      no  adult         38.1   56.0              32.0              normal   \n",
       "\n",
       "  peripheral_pulse mucous_membrane capillary_refill_time       pain  ...  \\\n",
       "0          reduced   dark_cyanotic            more_3_sec  depressed  ...   \n",
       "1           normal   pale_cyanotic            more_3_sec  mild_pain  ...   \n",
       "3          reduced       pale_pink            more_3_sec  mild_pain  ...   \n",
       "4           normal     normal_pink            less_3_sec      alert  ...   \n",
       "5           normal     bright_pink            less_3_sec  depressed  ...   \n",
       "\n",
       "         abdomen packed_cell_volume total_protein abdomo_appearance  \\\n",
       "0  distend_small               57.0           8.5     serosanguious   \n",
       "1  distend_small               33.0          64.0     serosanguious   \n",
       "3  distend_small               53.0           7.0            cloudy   \n",
       "4         normal               47.0           7.3            cloudy   \n",
       "5           firm               49.0           8.0            cloudy   \n",
       "\n",
       "   abdomo_protein surgical_lesion lesion_1  lesion_2  lesion_3 cp_data  \n",
       "0             3.4             yes     2209         0         0      no  \n",
       "1             2.0             yes     2208         0         0      no  \n",
       "3             3.9             yes     2208         0         0     yes  \n",
       "4             2.6              no        0         0         0     yes  \n",
       "5             2.8              no        0         0         0     yes  \n",
       "\n",
       "[5 rows x 26 columns]"
      ]
     },
     "execution_count": 270,
     "metadata": {},
     "output_type": "execute_result"
    }
   ],
   "source": [
    "data.head()"
   ]
  },
  {
   "cell_type": "code",
   "execution_count": 271,
   "metadata": {},
   "outputs": [],
   "source": [
    "numerical_data = data.select_dtypes(include=[int, float])\n",
    "categorical_data = data.select_dtypes(include=object)"
   ]
  },
  {
   "cell_type": "code",
   "execution_count": 272,
   "metadata": {},
   "outputs": [],
   "source": [
    "imputer_numerical = SimpleImputer(strategy=\"constant\", fill_value=0)\n",
    "imputer_categorical = SimpleImputer(strategy=\"constant\", fill_value=\"Tidak ada\")"
   ]
  },
  {
   "cell_type": "code",
   "execution_count": 273,
   "metadata": {},
   "outputs": [],
   "source": [
    "numerical_data_columns = numerical_data.columns\n",
    "categorical_data_columns = categorical_data.columns"
   ]
  },
  {
   "cell_type": "code",
   "execution_count": 274,
   "metadata": {},
   "outputs": [
    {
     "data": {
      "text/html": [
       "<div>\n",
       "<style scoped>\n",
       "    .dataframe tbody tr th:only-of-type {\n",
       "        vertical-align: middle;\n",
       "    }\n",
       "\n",
       "    .dataframe tbody tr th {\n",
       "        vertical-align: top;\n",
       "    }\n",
       "\n",
       "    .dataframe thead th {\n",
       "        text-align: right;\n",
       "    }\n",
       "</style>\n",
       "<table border=\"1\" class=\"dataframe\">\n",
       "  <thead>\n",
       "    <tr style=\"text-align: right;\">\n",
       "      <th></th>\n",
       "      <th>rectal_temp</th>\n",
       "      <th>pulse</th>\n",
       "      <th>respiratory_rate</th>\n",
       "      <th>nasogastric_reflux_ph</th>\n",
       "      <th>packed_cell_volume</th>\n",
       "      <th>total_protein</th>\n",
       "      <th>abdomo_protein</th>\n",
       "      <th>lesion_1</th>\n",
       "      <th>lesion_2</th>\n",
       "      <th>lesion_3</th>\n",
       "    </tr>\n",
       "  </thead>\n",
       "  <tbody>\n",
       "    <tr>\n",
       "      <th>0</th>\n",
       "      <td>38.1</td>\n",
       "      <td>132.0</td>\n",
       "      <td>24.0</td>\n",
       "      <td>6.5</td>\n",
       "      <td>57.0</td>\n",
       "      <td>8.5</td>\n",
       "      <td>3.4</td>\n",
       "      <td>2209</td>\n",
       "      <td>0</td>\n",
       "      <td>0</td>\n",
       "    </tr>\n",
       "    <tr>\n",
       "      <th>1</th>\n",
       "      <td>37.5</td>\n",
       "      <td>88.0</td>\n",
       "      <td>12.0</td>\n",
       "      <td>2.0</td>\n",
       "      <td>33.0</td>\n",
       "      <td>64.0</td>\n",
       "      <td>2.0</td>\n",
       "      <td>2208</td>\n",
       "      <td>0</td>\n",
       "      <td>0</td>\n",
       "    </tr>\n",
       "    <tr>\n",
       "      <th>3</th>\n",
       "      <td>37.1</td>\n",
       "      <td>72.0</td>\n",
       "      <td>30.0</td>\n",
       "      <td>2.0</td>\n",
       "      <td>53.0</td>\n",
       "      <td>7.0</td>\n",
       "      <td>3.9</td>\n",
       "      <td>2208</td>\n",
       "      <td>0</td>\n",
       "      <td>0</td>\n",
       "    </tr>\n",
       "    <tr>\n",
       "      <th>4</th>\n",
       "      <td>38.0</td>\n",
       "      <td>52.0</td>\n",
       "      <td>48.0</td>\n",
       "      <td>7.0</td>\n",
       "      <td>47.0</td>\n",
       "      <td>7.3</td>\n",
       "      <td>2.6</td>\n",
       "      <td>0</td>\n",
       "      <td>0</td>\n",
       "      <td>0</td>\n",
       "    </tr>\n",
       "    <tr>\n",
       "      <th>5</th>\n",
       "      <td>38.1</td>\n",
       "      <td>56.0</td>\n",
       "      <td>32.0</td>\n",
       "      <td>5.0</td>\n",
       "      <td>49.0</td>\n",
       "      <td>8.0</td>\n",
       "      <td>2.8</td>\n",
       "      <td>0</td>\n",
       "      <td>0</td>\n",
       "      <td>0</td>\n",
       "    </tr>\n",
       "  </tbody>\n",
       "</table>\n",
       "</div>"
      ],
      "text/plain": [
       "   rectal_temp  pulse  respiratory_rate  nasogastric_reflux_ph  \\\n",
       "0         38.1  132.0              24.0                    6.5   \n",
       "1         37.5   88.0              12.0                    2.0   \n",
       "3         37.1   72.0              30.0                    2.0   \n",
       "4         38.0   52.0              48.0                    7.0   \n",
       "5         38.1   56.0              32.0                    5.0   \n",
       "\n",
       "   packed_cell_volume  total_protein  abdomo_protein  lesion_1  lesion_2  \\\n",
       "0                57.0            8.5             3.4      2209         0   \n",
       "1                33.0           64.0             2.0      2208         0   \n",
       "3                53.0            7.0             3.9      2208         0   \n",
       "4                47.0            7.3             2.6         0         0   \n",
       "5                49.0            8.0             2.8         0         0   \n",
       "\n",
       "   lesion_3  \n",
       "0         0  \n",
       "1         0  \n",
       "3         0  \n",
       "4         0  \n",
       "5         0  "
      ]
     },
     "execution_count": 274,
     "metadata": {},
     "output_type": "execute_result"
    }
   ],
   "source": [
    "numerical_data.head()"
   ]
  },
  {
   "cell_type": "code",
   "execution_count": 275,
   "metadata": {},
   "outputs": [
    {
     "data": {
      "text/html": [
       "<div>\n",
       "<style scoped>\n",
       "    .dataframe tbody tr th:only-of-type {\n",
       "        vertical-align: middle;\n",
       "    }\n",
       "\n",
       "    .dataframe tbody tr th {\n",
       "        vertical-align: top;\n",
       "    }\n",
       "\n",
       "    .dataframe thead th {\n",
       "        text-align: right;\n",
       "    }\n",
       "</style>\n",
       "<table border=\"1\" class=\"dataframe\">\n",
       "  <thead>\n",
       "    <tr style=\"text-align: right;\">\n",
       "      <th></th>\n",
       "      <th>surgery</th>\n",
       "      <th>age</th>\n",
       "      <th>temp_of_extremities</th>\n",
       "      <th>peripheral_pulse</th>\n",
       "      <th>mucous_membrane</th>\n",
       "      <th>capillary_refill_time</th>\n",
       "      <th>pain</th>\n",
       "      <th>peristalsis</th>\n",
       "      <th>abdominal_distention</th>\n",
       "      <th>nasogastric_tube</th>\n",
       "      <th>nasogastric_reflux</th>\n",
       "      <th>rectal_exam_feces</th>\n",
       "      <th>abdomen</th>\n",
       "      <th>abdomo_appearance</th>\n",
       "      <th>surgical_lesion</th>\n",
       "      <th>cp_data</th>\n",
       "    </tr>\n",
       "  </thead>\n",
       "  <tbody>\n",
       "    <tr>\n",
       "      <th>0</th>\n",
       "      <td>yes</td>\n",
       "      <td>adult</td>\n",
       "      <td>cool</td>\n",
       "      <td>reduced</td>\n",
       "      <td>dark_cyanotic</td>\n",
       "      <td>more_3_sec</td>\n",
       "      <td>depressed</td>\n",
       "      <td>absent</td>\n",
       "      <td>slight</td>\n",
       "      <td>slight</td>\n",
       "      <td>less_1_liter</td>\n",
       "      <td>decreased</td>\n",
       "      <td>distend_small</td>\n",
       "      <td>serosanguious</td>\n",
       "      <td>yes</td>\n",
       "      <td>no</td>\n",
       "    </tr>\n",
       "    <tr>\n",
       "      <th>1</th>\n",
       "      <td>yes</td>\n",
       "      <td>adult</td>\n",
       "      <td>cool</td>\n",
       "      <td>normal</td>\n",
       "      <td>pale_cyanotic</td>\n",
       "      <td>more_3_sec</td>\n",
       "      <td>mild_pain</td>\n",
       "      <td>absent</td>\n",
       "      <td>moderate</td>\n",
       "      <td>none</td>\n",
       "      <td>more_1_liter</td>\n",
       "      <td>absent</td>\n",
       "      <td>distend_small</td>\n",
       "      <td>serosanguious</td>\n",
       "      <td>yes</td>\n",
       "      <td>no</td>\n",
       "    </tr>\n",
       "    <tr>\n",
       "      <th>3</th>\n",
       "      <td>yes</td>\n",
       "      <td>adult</td>\n",
       "      <td>cold</td>\n",
       "      <td>reduced</td>\n",
       "      <td>pale_pink</td>\n",
       "      <td>more_3_sec</td>\n",
       "      <td>mild_pain</td>\n",
       "      <td>hypomotile</td>\n",
       "      <td>moderate</td>\n",
       "      <td>slight</td>\n",
       "      <td>more_1_liter</td>\n",
       "      <td>decreased</td>\n",
       "      <td>distend_small</td>\n",
       "      <td>cloudy</td>\n",
       "      <td>yes</td>\n",
       "      <td>yes</td>\n",
       "    </tr>\n",
       "    <tr>\n",
       "      <th>4</th>\n",
       "      <td>no</td>\n",
       "      <td>adult</td>\n",
       "      <td>normal</td>\n",
       "      <td>normal</td>\n",
       "      <td>normal_pink</td>\n",
       "      <td>less_3_sec</td>\n",
       "      <td>alert</td>\n",
       "      <td>hypomotile</td>\n",
       "      <td>none</td>\n",
       "      <td>slight</td>\n",
       "      <td>less_1_liter</td>\n",
       "      <td>normal</td>\n",
       "      <td>normal</td>\n",
       "      <td>cloudy</td>\n",
       "      <td>no</td>\n",
       "      <td>yes</td>\n",
       "    </tr>\n",
       "    <tr>\n",
       "      <th>5</th>\n",
       "      <td>no</td>\n",
       "      <td>adult</td>\n",
       "      <td>normal</td>\n",
       "      <td>normal</td>\n",
       "      <td>bright_pink</td>\n",
       "      <td>less_3_sec</td>\n",
       "      <td>depressed</td>\n",
       "      <td>hypomotile</td>\n",
       "      <td>none</td>\n",
       "      <td>none</td>\n",
       "      <td>more_1_liter</td>\n",
       "      <td>decreased</td>\n",
       "      <td>firm</td>\n",
       "      <td>cloudy</td>\n",
       "      <td>no</td>\n",
       "      <td>yes</td>\n",
       "    </tr>\n",
       "  </tbody>\n",
       "</table>\n",
       "</div>"
      ],
      "text/plain": [
       "  surgery    age temp_of_extremities peripheral_pulse mucous_membrane  \\\n",
       "0     yes  adult                cool          reduced   dark_cyanotic   \n",
       "1     yes  adult                cool           normal   pale_cyanotic   \n",
       "3     yes  adult                cold          reduced       pale_pink   \n",
       "4      no  adult              normal           normal     normal_pink   \n",
       "5      no  adult              normal           normal     bright_pink   \n",
       "\n",
       "  capillary_refill_time       pain peristalsis abdominal_distention  \\\n",
       "0            more_3_sec  depressed      absent               slight   \n",
       "1            more_3_sec  mild_pain      absent             moderate   \n",
       "3            more_3_sec  mild_pain  hypomotile             moderate   \n",
       "4            less_3_sec      alert  hypomotile                 none   \n",
       "5            less_3_sec  depressed  hypomotile                 none   \n",
       "\n",
       "  nasogastric_tube nasogastric_reflux rectal_exam_feces        abdomen  \\\n",
       "0           slight       less_1_liter         decreased  distend_small   \n",
       "1             none       more_1_liter            absent  distend_small   \n",
       "3           slight       more_1_liter         decreased  distend_small   \n",
       "4           slight       less_1_liter            normal         normal   \n",
       "5             none       more_1_liter         decreased           firm   \n",
       "\n",
       "  abdomo_appearance surgical_lesion cp_data  \n",
       "0     serosanguious             yes      no  \n",
       "1     serosanguious             yes      no  \n",
       "3            cloudy             yes     yes  \n",
       "4            cloudy              no     yes  \n",
       "5            cloudy              no     yes  "
      ]
     },
     "execution_count": 275,
     "metadata": {},
     "output_type": "execute_result"
    }
   ],
   "source": [
    "categorical_data.head()"
   ]
  },
  {
   "cell_type": "code",
   "execution_count": 276,
   "metadata": {},
   "outputs": [],
   "source": [
    "numerical_data = pd.DataFrame(imputer_numerical.fit(numerical_data).transform(numerical_data), columns=numerical_data_columns)\n",
    "categorical_data = pd.DataFrame(imputer_categorical.fit(categorical_data).transform(categorical_data), columns=categorical_data_columns)"
   ]
  },
  {
   "cell_type": "code",
   "execution_count": 277,
   "metadata": {},
   "outputs": [],
   "source": [
    "numerical_data = (numerical_data-numerical_data.mean())/numerical_data.std()"
   ]
  },
  {
   "cell_type": "code",
   "execution_count": 278,
   "metadata": {},
   "outputs": [],
   "source": [
    "# numerical_data = (numerical_data-numerical_data.min())/(numerical_data.max()-numerical_data.min())"
   ]
  },
  {
   "cell_type": "code",
   "execution_count": 279,
   "metadata": {},
   "outputs": [],
   "source": [
    "# for column in categorical_data_columns:\n",
    "#     le = LabelEncoder()\n",
    "#     le.fit(list(set(categorical_data[column])))\n",
    "#     temp_list = categorical_data[column].to_list()\n",
    "#     temp_list = le.transform(temp_list)\n",
    "#     categorical_data[column] = pd.Series(temp_list)"
   ]
  },
  {
   "cell_type": "code",
   "execution_count": 280,
   "metadata": {},
   "outputs": [],
   "source": [
    "le1 = LabelEncoder()\n",
    "le1 = le1.fit(['Tidak ada','normal','warm','cool','cold'])\n",
    "tmp = le1.transform(categorical_data['temp_of_extremities'].to_list())\n",
    "categorical_data['temp_of_extremities'] = pd.Series(tmp)"
   ]
  },
  {
   "cell_type": "code",
   "execution_count": 281,
   "metadata": {},
   "outputs": [],
   "source": [
    "le2 = LabelEncoder()\n",
    "le2 = le2.fit(['Tidak ada','normal','increased','reduced','absent'])\n",
    "tmp = le2.transform(categorical_data['peripheral_pulse'].to_list())\n",
    "categorical_data['peripheral_pulse'] = pd.Series(tmp)"
   ]
  },
  {
   "cell_type": "code",
   "execution_count": 282,
   "metadata": {},
   "outputs": [],
   "source": [
    "le3 = LabelEncoder()\n",
    "le3 = le3.fit(['Tidak ada','normal_pink','bright_pink','pale_pink','pale_cyanotic','dark_cyanotic','bright_red'])\n",
    "tmp = le3.transform(categorical_data['mucous_membrane'].to_list())\n",
    "categorical_data['mucous_membrane'] = pd.Series(tmp)"
   ]
  },
  {
   "cell_type": "code",
   "execution_count": 283,
   "metadata": {},
   "outputs": [],
   "source": [
    "le4 = LabelEncoder()\n",
    "le4 = le4.fit(['Tidak ada','less_3_sec','3','more_3_sec'])\n",
    "tmp = le4.transform(categorical_data['capillary_refill_time'].to_list())\n",
    "categorical_data['capillary_refill_time'] = pd.Series(tmp)"
   ]
  },
  {
   "cell_type": "code",
   "execution_count": 284,
   "metadata": {},
   "outputs": [],
   "source": [
    "le5 = LabelEncoder()\n",
    "le5 = le5.fit(['Tidak ada','alert','slight','depressed','mild_pain','severe_pain','extreme_pain'])\n",
    "tmp = le5.transform(categorical_data['pain'].to_list())\n",
    "categorical_data['pain'] = pd.Series(tmp)"
   ]
  },
  {
   "cell_type": "code",
   "execution_count": 285,
   "metadata": {},
   "outputs": [],
   "source": [
    "le6 = LabelEncoder()\n",
    "le6 = le6.fit(['Tidak ada','distend_small','hypomotile','normal','hypermotile','absent'])\n",
    "tmp = le6.transform(categorical_data['peristalsis'].to_list())\n",
    "categorical_data['peristalsis'] = pd.Series(tmp)"
   ]
  },
  {
   "cell_type": "code",
   "execution_count": 286,
   "metadata": {},
   "outputs": [
    {
     "name": "stdout",
     "output_type": "stream",
     "text": [
      "{'slight', 'moderate', 'severe', 'none'}\n"
     ]
    }
   ],
   "source": [
    "print(set(categorical_data['abdominal_distention']))"
   ]
  },
  {
   "cell_type": "code",
   "execution_count": 287,
   "metadata": {},
   "outputs": [],
   "source": [
    "le7 = LabelEncoder()\n",
    "le7 = le7.fit(['Tidak ada','none','slight','moderate','severe'])\n",
    "tmp = le7.transform(categorical_data['abdominal_distention'].to_list())\n",
    "categorical_data['abdominal_distention'] = pd.Series(tmp)"
   ]
  },
  {
   "cell_type": "code",
   "execution_count": 288,
   "metadata": {},
   "outputs": [
    {
     "name": "stdout",
     "output_type": "stream",
     "text": [
      "{'slight', 'none', 'significant'}\n"
     ]
    }
   ],
   "source": [
    "print(set(categorical_data['nasogastric_tube']))"
   ]
  },
  {
   "cell_type": "code",
   "execution_count": 289,
   "metadata": {},
   "outputs": [],
   "source": [
    "le8 = LabelEncoder()\n",
    "le8 = le8.fit(['Tidak ada','none','slight','significant'])\n",
    "tmp = le8.transform(categorical_data['nasogastric_tube'].to_list())\n",
    "categorical_data['nasogastric_tube'] = pd.Series(tmp)"
   ]
  },
  {
   "cell_type": "code",
   "execution_count": 290,
   "metadata": {},
   "outputs": [
    {
     "name": "stdout",
     "output_type": "stream",
     "text": [
      "{'slight', 'none', 'less_1_liter', 'more_1_liter'}\n"
     ]
    }
   ],
   "source": [
    "print(set(categorical_data['nasogastric_reflux']))"
   ]
  },
  {
   "cell_type": "code",
   "execution_count": 291,
   "metadata": {},
   "outputs": [],
   "source": [
    "le9 = LabelEncoder()\n",
    "le9 = le9.fit(['Tidak ada','none','slight','less_1_liter','more_1_liter'])\n",
    "tmp = le9.transform(categorical_data['nasogastric_reflux'].to_list())\n",
    "categorical_data['nasogastric_reflux'] = pd.Series(tmp)"
   ]
  },
  {
   "cell_type": "code",
   "execution_count": 292,
   "metadata": {},
   "outputs": [
    {
     "name": "stdout",
     "output_type": "stream",
     "text": [
      "{'absent', 'decreased', 'serosanguious', 'increased', 'normal'}\n"
     ]
    }
   ],
   "source": [
    "print(set(categorical_data['rectal_exam_feces']))"
   ]
  },
  {
   "cell_type": "code",
   "execution_count": 293,
   "metadata": {},
   "outputs": [],
   "source": [
    "le10 = LabelEncoder()\n",
    "le10 = le10.fit(['Tidak ada','decreased','normal','increased','absent','serosanguious'])\n",
    "tmp = le10.transform(categorical_data['rectal_exam_feces'].to_list())\n",
    "categorical_data['rectal_exam_feces'] = pd.Series(tmp)"
   ]
  },
  {
   "cell_type": "code",
   "execution_count": 294,
   "metadata": {},
   "outputs": [
    {
     "name": "stdout",
     "output_type": "stream",
     "text": [
      "{'firm', 'other', 'distend_large', 'distend_small', 'normal'}\n"
     ]
    }
   ],
   "source": [
    "print(set(categorical_data['abdomen']))"
   ]
  },
  {
   "cell_type": "code",
   "execution_count": 295,
   "metadata": {},
   "outputs": [],
   "source": [
    "le11 = LabelEncoder()\n",
    "le11 = le11.fit(['Tidak ada','normal','other','firm','distend_small','distend_large'])\n",
    "tmp = le11.transform(categorical_data['abdomen'].to_list())\n",
    "categorical_data['abdomen'] = pd.Series(tmp)"
   ]
  },
  {
   "cell_type": "code",
   "execution_count": 296,
   "metadata": {},
   "outputs": [
    {
     "name": "stdout",
     "output_type": "stream",
     "text": [
      "{'cloudy', 'serosanguious', 'clear'}\n"
     ]
    }
   ],
   "source": [
    "print(set(categorical_data['abdomo_appearance']))"
   ]
  },
  {
   "cell_type": "code",
   "execution_count": 297,
   "metadata": {},
   "outputs": [],
   "source": [
    "le12 = LabelEncoder()\n",
    "le12 = le12.fit(['Tidak ada','clear','cloudy','serosanguious'])\n",
    "tmp = le12.transform(categorical_data['abdomo_appearance'].to_list())\n",
    "categorical_data['abdomo_appearance'] = pd.Series(tmp)"
   ]
  },
  {
   "cell_type": "code",
   "execution_count": 298,
   "metadata": {},
   "outputs": [
    {
     "data": {
      "text/html": [
       "<div>\n",
       "<style scoped>\n",
       "    .dataframe tbody tr th:only-of-type {\n",
       "        vertical-align: middle;\n",
       "    }\n",
       "\n",
       "    .dataframe tbody tr th {\n",
       "        vertical-align: top;\n",
       "    }\n",
       "\n",
       "    .dataframe thead th {\n",
       "        text-align: right;\n",
       "    }\n",
       "</style>\n",
       "<table border=\"1\" class=\"dataframe\">\n",
       "  <thead>\n",
       "    <tr style=\"text-align: right;\">\n",
       "      <th></th>\n",
       "      <th>surgery</th>\n",
       "      <th>age</th>\n",
       "      <th>temp_of_extremities</th>\n",
       "      <th>peripheral_pulse</th>\n",
       "      <th>mucous_membrane</th>\n",
       "      <th>capillary_refill_time</th>\n",
       "      <th>pain</th>\n",
       "      <th>peristalsis</th>\n",
       "      <th>abdominal_distention</th>\n",
       "      <th>nasogastric_tube</th>\n",
       "      <th>nasogastric_reflux</th>\n",
       "      <th>rectal_exam_feces</th>\n",
       "      <th>abdomen</th>\n",
       "      <th>abdomo_appearance</th>\n",
       "      <th>surgical_lesion</th>\n",
       "      <th>cp_data</th>\n",
       "    </tr>\n",
       "  </thead>\n",
       "  <tbody>\n",
       "    <tr>\n",
       "      <th>0</th>\n",
       "      <td>yes</td>\n",
       "      <td>adult</td>\n",
       "      <td>2</td>\n",
       "      <td>4</td>\n",
       "      <td>3</td>\n",
       "      <td>3</td>\n",
       "      <td>2</td>\n",
       "      <td>1</td>\n",
       "      <td>4</td>\n",
       "      <td>3</td>\n",
       "      <td>1</td>\n",
       "      <td>2</td>\n",
       "      <td>2</td>\n",
       "      <td>3</td>\n",
       "      <td>yes</td>\n",
       "      <td>no</td>\n",
       "    </tr>\n",
       "    <tr>\n",
       "      <th>1</th>\n",
       "      <td>yes</td>\n",
       "      <td>adult</td>\n",
       "      <td>2</td>\n",
       "      <td>3</td>\n",
       "      <td>5</td>\n",
       "      <td>3</td>\n",
       "      <td>4</td>\n",
       "      <td>1</td>\n",
       "      <td>1</td>\n",
       "      <td>1</td>\n",
       "      <td>2</td>\n",
       "      <td>1</td>\n",
       "      <td>2</td>\n",
       "      <td>3</td>\n",
       "      <td>yes</td>\n",
       "      <td>no</td>\n",
       "    </tr>\n",
       "    <tr>\n",
       "      <th>2</th>\n",
       "      <td>yes</td>\n",
       "      <td>adult</td>\n",
       "      <td>1</td>\n",
       "      <td>4</td>\n",
       "      <td>6</td>\n",
       "      <td>3</td>\n",
       "      <td>4</td>\n",
       "      <td>4</td>\n",
       "      <td>1</td>\n",
       "      <td>3</td>\n",
       "      <td>2</td>\n",
       "      <td>2</td>\n",
       "      <td>2</td>\n",
       "      <td>2</td>\n",
       "      <td>yes</td>\n",
       "      <td>yes</td>\n",
       "    </tr>\n",
       "    <tr>\n",
       "      <th>3</th>\n",
       "      <td>no</td>\n",
       "      <td>adult</td>\n",
       "      <td>3</td>\n",
       "      <td>3</td>\n",
       "      <td>4</td>\n",
       "      <td>2</td>\n",
       "      <td>1</td>\n",
       "      <td>4</td>\n",
       "      <td>2</td>\n",
       "      <td>3</td>\n",
       "      <td>1</td>\n",
       "      <td>4</td>\n",
       "      <td>4</td>\n",
       "      <td>2</td>\n",
       "      <td>no</td>\n",
       "      <td>yes</td>\n",
       "    </tr>\n",
       "    <tr>\n",
       "      <th>4</th>\n",
       "      <td>no</td>\n",
       "      <td>adult</td>\n",
       "      <td>3</td>\n",
       "      <td>3</td>\n",
       "      <td>1</td>\n",
       "      <td>2</td>\n",
       "      <td>2</td>\n",
       "      <td>4</td>\n",
       "      <td>2</td>\n",
       "      <td>1</td>\n",
       "      <td>2</td>\n",
       "      <td>2</td>\n",
       "      <td>3</td>\n",
       "      <td>2</td>\n",
       "      <td>no</td>\n",
       "      <td>yes</td>\n",
       "    </tr>\n",
       "  </tbody>\n",
       "</table>\n",
       "</div>"
      ],
      "text/plain": [
       "  surgery    age  temp_of_extremities  peripheral_pulse  mucous_membrane  \\\n",
       "0     yes  adult                    2                 4                3   \n",
       "1     yes  adult                    2                 3                5   \n",
       "2     yes  adult                    1                 4                6   \n",
       "3      no  adult                    3                 3                4   \n",
       "4      no  adult                    3                 3                1   \n",
       "\n",
       "   capillary_refill_time  pain  peristalsis  abdominal_distention  \\\n",
       "0                      3     2            1                     4   \n",
       "1                      3     4            1                     1   \n",
       "2                      3     4            4                     1   \n",
       "3                      2     1            4                     2   \n",
       "4                      2     2            4                     2   \n",
       "\n",
       "   nasogastric_tube  nasogastric_reflux  rectal_exam_feces  abdomen  \\\n",
       "0                 3                   1                  2        2   \n",
       "1                 1                   2                  1        2   \n",
       "2                 3                   2                  2        2   \n",
       "3                 3                   1                  4        4   \n",
       "4                 1                   2                  2        3   \n",
       "\n",
       "   abdomo_appearance surgical_lesion cp_data  \n",
       "0                  3             yes      no  \n",
       "1                  3             yes      no  \n",
       "2                  2             yes     yes  \n",
       "3                  2              no     yes  \n",
       "4                  2              no     yes  "
      ]
     },
     "execution_count": 298,
     "metadata": {},
     "output_type": "execute_result"
    }
   ],
   "source": [
    "categorical_data.head()"
   ]
  },
  {
   "cell_type": "code",
   "execution_count": 299,
   "metadata": {},
   "outputs": [],
   "source": [
    "le13 = LabelEncoder()\n",
    "le13 = le13.fit(['Tidak ada','no','yes'])\n",
    "tmp = le13.transform(categorical_data['surgery'].to_list())\n",
    "categorical_data['surgery'] = pd.Series(tmp)"
   ]
  },
  {
   "cell_type": "code",
   "execution_count": 300,
   "metadata": {},
   "outputs": [],
   "source": [
    "le14 = LabelEncoder()\n",
    "le14 = le14.fit(['Tidak ada','no','yes'])\n",
    "tmp = le14.transform(categorical_data['surgical_lesion'].to_list())\n",
    "categorical_data['surgical_lesion'] = pd.Series(tmp)"
   ]
  },
  {
   "cell_type": "code",
   "execution_count": 301,
   "metadata": {},
   "outputs": [],
   "source": [
    "le15 = LabelEncoder()\n",
    "le15 = le14.fit(['Tidak ada','no','yes'])\n",
    "tmp = le14.transform(categorical_data['cp_data'].to_list())\n",
    "categorical_data['cp_data'] = pd.Series(tmp)"
   ]
  },
  {
   "cell_type": "code",
   "execution_count": 302,
   "metadata": {},
   "outputs": [],
   "source": [
    "le16 = LabelEncoder()\n",
    "le16 = le16.fit(['young','adult'])\n",
    "tmp = le16.transform(categorical_data['age'].to_list())\n",
    "categorical_data['age'] = pd.Series(tmp)"
   ]
  },
  {
   "cell_type": "code",
   "execution_count": 303,
   "metadata": {},
   "outputs": [],
   "source": [
    "data = pd.merge(left=numerical_data, right=categorical_data, left_index=True, right_index=True, how='inner')\n",
    "# data = numerical_data\n",
    "# data = categorical_data"
   ]
  },
  {
   "cell_type": "code",
   "execution_count": 304,
   "metadata": {},
   "outputs": [],
   "source": [
    "selector = VarianceThreshold(threshold=(.8 * (1 - .8)))"
   ]
  },
  {
   "cell_type": "code",
   "execution_count": 305,
   "metadata": {},
   "outputs": [
    {
     "data": {
      "text/plain": [
       "array([[-0.11230164,  2.01759245, -0.33608663, ...,  3.        ,\n",
       "         2.        ,  1.        ],\n",
       "       [-0.83990306,  0.38962094, -1.08015783, ...,  3.        ,\n",
       "         2.        ,  1.        ],\n",
       "       [-1.32497067, -0.2023687 ,  0.03594896, ...,  2.        ,\n",
       "         2.        ,  2.        ],\n",
       "       ...,\n",
       "       [-0.83990306, -0.64636093,  1.27606762, ...,  3.        ,\n",
       "         2.        ,  2.        ],\n",
       "       [-0.83990306,  0.24162353,  0.65600829, ...,  2.        ,\n",
       "         2.        ,  2.        ],\n",
       "       [-0.11230164, -0.27636741, -0.83213409, ...,  2.        ,\n",
       "         2.        ,  1.        ]])"
      ]
     },
     "execution_count": 305,
     "metadata": {},
     "output_type": "execute_result"
    }
   ],
   "source": [
    "selector.fit_transform(data)"
   ]
  },
  {
   "cell_type": "code",
   "execution_count": 307,
   "metadata": {},
   "outputs": [
    {
     "data": {
      "text/plain": [
       "array(['rectal_temp', 'pulse', 'respiratory_rate',\n",
       "       'nasogastric_reflux_ph', 'packed_cell_volume', 'total_protein',\n",
       "       'abdomo_protein', 'lesion_1', 'lesion_2', 'lesion_3', 'surgery',\n",
       "       'temp_of_extremities', 'peripheral_pulse', 'mucous_membrane',\n",
       "       'capillary_refill_time', 'pain', 'peristalsis',\n",
       "       'abdominal_distention', 'nasogastric_tube', 'nasogastric_reflux',\n",
       "       'rectal_exam_feces', 'abdomen', 'abdomo_appearance',\n",
       "       'surgical_lesion', 'cp_data'], dtype=object)"
      ]
     },
     "execution_count": 307,
     "metadata": {},
     "output_type": "execute_result"
    }
   ],
   "source": [
    "selector.get_feature_names_out()"
   ]
  },
  {
   "cell_type": "code",
   "execution_count": null,
   "metadata": {},
   "outputs": [
    {
     "data": {
      "text/plain": [
       "rectal_temp              float64\n",
       "pulse                    float64\n",
       "respiratory_rate         float64\n",
       "nasogastric_reflux_ph    float64\n",
       "packed_cell_volume       float64\n",
       "total_protein            float64\n",
       "abdomo_protein           float64\n",
       "lesion_1                 float64\n",
       "lesion_2                 float64\n",
       "lesion_3                 float64\n",
       "surgery                    int32\n",
       "age                        int32\n",
       "temp_of_extremities        int32\n",
       "peripheral_pulse           int32\n",
       "mucous_membrane            int32\n",
       "capillary_refill_time      int32\n",
       "pain                       int32\n",
       "peristalsis                int32\n",
       "abdominal_distention       int32\n",
       "nasogastric_tube           int32\n",
       "nasogastric_reflux         int32\n",
       "rectal_exam_feces          int32\n",
       "abdomen                    int32\n",
       "abdomo_appearance          int32\n",
       "surgical_lesion            int32\n",
       "cp_data                    int32\n",
       "dtype: object"
      ]
     },
     "execution_count": 240,
     "metadata": {},
     "output_type": "execute_result"
    }
   ],
   "source": [
    "data.dtypes"
   ]
  },
  {
   "cell_type": "code",
   "execution_count": null,
   "metadata": {},
   "outputs": [
    {
     "data": {
      "text/html": [
       "<div>\n",
       "<style scoped>\n",
       "    .dataframe tbody tr th:only-of-type {\n",
       "        vertical-align: middle;\n",
       "    }\n",
       "\n",
       "    .dataframe tbody tr th {\n",
       "        vertical-align: top;\n",
       "    }\n",
       "\n",
       "    .dataframe thead th {\n",
       "        text-align: right;\n",
       "    }\n",
       "</style>\n",
       "<table border=\"1\" class=\"dataframe\">\n",
       "  <thead>\n",
       "    <tr style=\"text-align: right;\">\n",
       "      <th></th>\n",
       "      <th>rectal_temp</th>\n",
       "      <th>pulse</th>\n",
       "      <th>respiratory_rate</th>\n",
       "      <th>nasogastric_reflux_ph</th>\n",
       "      <th>packed_cell_volume</th>\n",
       "      <th>total_protein</th>\n",
       "      <th>abdomo_protein</th>\n",
       "      <th>lesion_1</th>\n",
       "      <th>lesion_2</th>\n",
       "      <th>lesion_3</th>\n",
       "      <th>...</th>\n",
       "      <th>pain</th>\n",
       "      <th>peristalsis</th>\n",
       "      <th>abdominal_distention</th>\n",
       "      <th>nasogastric_tube</th>\n",
       "      <th>nasogastric_reflux</th>\n",
       "      <th>rectal_exam_feces</th>\n",
       "      <th>abdomen</th>\n",
       "      <th>abdomo_appearance</th>\n",
       "      <th>surgical_lesion</th>\n",
       "      <th>cp_data</th>\n",
       "    </tr>\n",
       "  </thead>\n",
       "  <tbody>\n",
       "    <tr>\n",
       "      <th>0</th>\n",
       "      <td>-0.112302</td>\n",
       "      <td>2.017592</td>\n",
       "      <td>-0.336087</td>\n",
       "      <td>1.005897</td>\n",
       "      <td>0.740517</td>\n",
       "      <td>-0.371975</td>\n",
       "      <td>-0.032765</td>\n",
       "      <td>-0.314028</td>\n",
       "      <td>-0.062459</td>\n",
       "      <td>-0.050965</td>\n",
       "      <td>...</td>\n",
       "      <td>2</td>\n",
       "      <td>1</td>\n",
       "      <td>4</td>\n",
       "      <td>3</td>\n",
       "      <td>1</td>\n",
       "      <td>2</td>\n",
       "      <td>2</td>\n",
       "      <td>3</td>\n",
       "      <td>2</td>\n",
       "      <td>1</td>\n",
       "    </tr>\n",
       "    <tr>\n",
       "      <th>1</th>\n",
       "      <td>-0.839903</td>\n",
       "      <td>0.389621</td>\n",
       "      <td>-1.080158</td>\n",
       "      <td>-1.439251</td>\n",
       "      <td>-1.578604</td>\n",
       "      <td>1.985608</td>\n",
       "      <td>-0.958603</td>\n",
       "      <td>-0.314197</td>\n",
       "      <td>-0.062459</td>\n",
       "      <td>-0.050965</td>\n",
       "      <td>...</td>\n",
       "      <td>4</td>\n",
       "      <td>1</td>\n",
       "      <td>1</td>\n",
       "      <td>1</td>\n",
       "      <td>2</td>\n",
       "      <td>1</td>\n",
       "      <td>2</td>\n",
       "      <td>3</td>\n",
       "      <td>2</td>\n",
       "      <td>1</td>\n",
       "    </tr>\n",
       "    <tr>\n",
       "      <th>2</th>\n",
       "      <td>-1.324971</td>\n",
       "      <td>-0.202369</td>\n",
       "      <td>0.035949</td>\n",
       "      <td>-1.439251</td>\n",
       "      <td>0.353997</td>\n",
       "      <td>-0.435693</td>\n",
       "      <td>0.297891</td>\n",
       "      <td>-0.314197</td>\n",
       "      <td>-0.062459</td>\n",
       "      <td>-0.050965</td>\n",
       "      <td>...</td>\n",
       "      <td>4</td>\n",
       "      <td>4</td>\n",
       "      <td>1</td>\n",
       "      <td>3</td>\n",
       "      <td>2</td>\n",
       "      <td>2</td>\n",
       "      <td>2</td>\n",
       "      <td>2</td>\n",
       "      <td>2</td>\n",
       "      <td>2</td>\n",
       "    </tr>\n",
       "    <tr>\n",
       "      <th>3</th>\n",
       "      <td>-0.233569</td>\n",
       "      <td>-0.942356</td>\n",
       "      <td>1.152056</td>\n",
       "      <td>1.277580</td>\n",
       "      <td>-0.225783</td>\n",
       "      <td>-0.422950</td>\n",
       "      <td>-0.561815</td>\n",
       "      <td>-0.685578</td>\n",
       "      <td>-0.062459</td>\n",
       "      <td>-0.050965</td>\n",
       "      <td>...</td>\n",
       "      <td>1</td>\n",
       "      <td>4</td>\n",
       "      <td>2</td>\n",
       "      <td>3</td>\n",
       "      <td>1</td>\n",
       "      <td>4</td>\n",
       "      <td>4</td>\n",
       "      <td>2</td>\n",
       "      <td>1</td>\n",
       "      <td>2</td>\n",
       "    </tr>\n",
       "    <tr>\n",
       "      <th>4</th>\n",
       "      <td>-0.112302</td>\n",
       "      <td>-0.794358</td>\n",
       "      <td>0.159961</td>\n",
       "      <td>0.190848</td>\n",
       "      <td>-0.032523</td>\n",
       "      <td>-0.393214</td>\n",
       "      <td>-0.429553</td>\n",
       "      <td>-0.685578</td>\n",
       "      <td>-0.062459</td>\n",
       "      <td>-0.050965</td>\n",
       "      <td>...</td>\n",
       "      <td>2</td>\n",
       "      <td>4</td>\n",
       "      <td>2</td>\n",
       "      <td>1</td>\n",
       "      <td>2</td>\n",
       "      <td>2</td>\n",
       "      <td>3</td>\n",
       "      <td>2</td>\n",
       "      <td>1</td>\n",
       "      <td>2</td>\n",
       "    </tr>\n",
       "  </tbody>\n",
       "</table>\n",
       "<p>5 rows × 26 columns</p>\n",
       "</div>"
      ],
      "text/plain": [
       "   rectal_temp     pulse  respiratory_rate  nasogastric_reflux_ph  \\\n",
       "0    -0.112302  2.017592         -0.336087               1.005897   \n",
       "1    -0.839903  0.389621         -1.080158              -1.439251   \n",
       "2    -1.324971 -0.202369          0.035949              -1.439251   \n",
       "3    -0.233569 -0.942356          1.152056               1.277580   \n",
       "4    -0.112302 -0.794358          0.159961               0.190848   \n",
       "\n",
       "   packed_cell_volume  total_protein  abdomo_protein  lesion_1  lesion_2  \\\n",
       "0            0.740517      -0.371975       -0.032765 -0.314028 -0.062459   \n",
       "1           -1.578604       1.985608       -0.958603 -0.314197 -0.062459   \n",
       "2            0.353997      -0.435693        0.297891 -0.314197 -0.062459   \n",
       "3           -0.225783      -0.422950       -0.561815 -0.685578 -0.062459   \n",
       "4           -0.032523      -0.393214       -0.429553 -0.685578 -0.062459   \n",
       "\n",
       "   lesion_3  ...  pain  peristalsis  abdominal_distention  nasogastric_tube  \\\n",
       "0 -0.050965  ...     2            1                     4                 3   \n",
       "1 -0.050965  ...     4            1                     1                 1   \n",
       "2 -0.050965  ...     4            4                     1                 3   \n",
       "3 -0.050965  ...     1            4                     2                 3   \n",
       "4 -0.050965  ...     2            4                     2                 1   \n",
       "\n",
       "   nasogastric_reflux  rectal_exam_feces  abdomen  abdomo_appearance  \\\n",
       "0                   1                  2        2                  3   \n",
       "1                   2                  1        2                  3   \n",
       "2                   2                  2        2                  2   \n",
       "3                   1                  4        4                  2   \n",
       "4                   2                  2        3                  2   \n",
       "\n",
       "   surgical_lesion  cp_data  \n",
       "0                2        1  \n",
       "1                2        1  \n",
       "2                2        2  \n",
       "3                1        2  \n",
       "4                1        2  \n",
       "\n",
       "[5 rows x 26 columns]"
      ]
     },
     "execution_count": 241,
     "metadata": {},
     "output_type": "execute_result"
    }
   ],
   "source": [
    "data.head()"
   ]
  },
  {
   "cell_type": "code",
   "execution_count": null,
   "metadata": {},
   "outputs": [
    {
     "name": "stdout",
     "output_type": "stream",
     "text": [
      "<class 'pandas.core.frame.DataFrame'>\n",
      "RangeIndex: 771 entries, 0 to 770\n",
      "Data columns (total 26 columns):\n",
      " #   Column                 Non-Null Count  Dtype  \n",
      "---  ------                 --------------  -----  \n",
      " 0   rectal_temp            771 non-null    float64\n",
      " 1   pulse                  771 non-null    float64\n",
      " 2   respiratory_rate       771 non-null    float64\n",
      " 3   nasogastric_reflux_ph  771 non-null    float64\n",
      " 4   packed_cell_volume     771 non-null    float64\n",
      " 5   total_protein          771 non-null    float64\n",
      " 6   abdomo_protein         771 non-null    float64\n",
      " 7   lesion_1               771 non-null    float64\n",
      " 8   lesion_2               771 non-null    float64\n",
      " 9   lesion_3               771 non-null    float64\n",
      " 10  surgery                771 non-null    int32  \n",
      " 11  age                    771 non-null    int32  \n",
      " 12  temp_of_extremities    771 non-null    int32  \n",
      " 13  peripheral_pulse       771 non-null    int32  \n",
      " 14  mucous_membrane        771 non-null    int32  \n",
      " 15  capillary_refill_time  771 non-null    int32  \n",
      " 16  pain                   771 non-null    int32  \n",
      " 17  peristalsis            771 non-null    int32  \n",
      " 18  abdominal_distention   771 non-null    int32  \n",
      " 19  nasogastric_tube       771 non-null    int32  \n",
      " 20  nasogastric_reflux     771 non-null    int32  \n",
      " 21  rectal_exam_feces      771 non-null    int32  \n",
      " 22  abdomen                771 non-null    int32  \n",
      " 23  abdomo_appearance      771 non-null    int32  \n",
      " 24  surgical_lesion        771 non-null    int32  \n",
      " 25  cp_data                771 non-null    int32  \n",
      "dtypes: float64(10), int32(16)\n",
      "memory usage: 108.6 KB\n"
     ]
    }
   ],
   "source": [
    "data.info()"
   ]
  },
  {
   "cell_type": "code",
   "execution_count": null,
   "metadata": {},
   "outputs": [
    {
     "data": {
      "text/plain": [
       "(771, 26)"
      ]
     },
     "execution_count": 243,
     "metadata": {},
     "output_type": "execute_result"
    }
   ],
   "source": [
    "data.shape"
   ]
  },
  {
   "cell_type": "code",
   "execution_count": null,
   "metadata": {},
   "outputs": [],
   "source": [
    "model1 = KNeighborsClassifier(n_neighbors=3,weights='distance', algorithm='brute',p=2)\n",
    "model2 = SVC()\n",
    "model3 = DecisionTreeClassifier()\n",
    "model4 = GaussianNB()"
   ]
  },
  {
   "cell_type": "code",
   "execution_count": null,
   "metadata": {},
   "outputs": [],
   "source": [
    "x_train,x_test,y_train,y_test = train_test_split(data,target, test_size=0.2)"
   ]
  },
  {
   "cell_type": "code",
   "execution_count": null,
   "metadata": {},
   "outputs": [],
   "source": [
    "model1 = model1.fit(x_train, y_train)\n",
    "model2 = model2.fit(x_train, y_train)\n",
    "model3 = model3.fit(x_train, y_train)\n",
    "model4 = model4.fit(x_train, y_train)"
   ]
  },
  {
   "cell_type": "code",
   "execution_count": null,
   "metadata": {},
   "outputs": [],
   "source": [
    "temp1 = model1.predict(x_test).tolist()\n",
    "temp2 = model2.predict(x_test).tolist()\n",
    "temp3 = model3.predict(x_test).tolist()\n",
    "temp4 = model4.predict(x_test).tolist()"
   ]
  },
  {
   "cell_type": "code",
   "execution_count": null,
   "metadata": {},
   "outputs": [
    {
     "name": "stdout",
     "output_type": "stream",
     "text": [
      "['died', 'lived', 'lived', 'lived', 'euthanized', 'lived', 'lived', 'died', 'died', 'died', 'died', 'died', 'died', 'lived', 'died', 'lived', 'died', 'lived', 'died', 'lived', 'lived', 'lived', 'lived', 'lived', 'died', 'died', 'lived', 'lived', 'lived', 'lived', 'lived', 'lived', 'lived', 'euthanized', 'lived', 'died', 'died', 'died', 'lived', 'lived', 'euthanized', 'euthanized', 'died', 'lived', 'euthanized', 'lived', 'lived', 'died', 'lived', 'lived', 'euthanized', 'lived', 'euthanized', 'lived', 'euthanized', 'lived', 'died', 'lived', 'lived', 'lived', 'lived', 'lived', 'lived', 'died', 'died', 'died', 'lived', 'died', 'died', 'died', 'died', 'died', 'lived', 'lived', 'euthanized', 'lived', 'died', 'lived', 'died', 'euthanized', 'lived', 'died', 'lived', 'died', 'died', 'euthanized', 'died', 'lived', 'lived', 'lived', 'died', 'lived', 'euthanized', 'died', 'lived', 'lived', 'died', 'lived', 'died', 'lived', 'lived', 'lived', 'lived', 'died', 'died', 'died', 'lived', 'died', 'lived', 'euthanized', 'died', 'lived', 'died', 'lived', 'died', 'lived', 'died', 'died', 'lived', 'lived', 'died', 'died', 'died', 'lived', 'lived', 'died', 'died', 'died', 'lived', 'died', 'lived', 'died', 'lived', 'died', 'lived', 'died', 'lived', 'died', 'lived', 'euthanized', 'died', 'died', 'lived', 'euthanized', 'lived', 'lived', 'lived', 'lived', 'died', 'died', 'lived', 'lived', 'lived', 'died', 'lived']\n"
     ]
    }
   ],
   "source": [
    "print(temp1)"
   ]
  },
  {
   "cell_type": "code",
   "execution_count": null,
   "metadata": {},
   "outputs": [
    {
     "name": "stdout",
     "output_type": "stream",
     "text": [
      "['died', 'lived', 'lived', 'lived', 'died', 'died', 'died', 'died', 'lived', 'lived', 'died', 'died', 'died', 'died', 'died', 'lived', 'lived', 'lived', 'died', 'lived', 'lived', 'lived', 'lived', 'lived', 'died', 'lived', 'lived', 'lived', 'lived', 'died', 'died', 'died', 'lived', 'lived', 'lived', 'died', 'died', 'died', 'lived', 'died', 'euthanized', 'euthanized', 'died', 'lived', 'lived', 'lived', 'lived', 'died', 'lived', 'lived', 'euthanized', 'lived', 'euthanized', 'lived', 'died', 'lived', 'died', 'lived', 'lived', 'lived', 'lived', 'lived', 'lived', 'died', 'died', 'died', 'lived', 'died', 'died', 'died', 'died', 'died', 'lived', 'lived', 'lived', 'died', 'died', 'lived', 'died', 'euthanized', 'died', 'died', 'lived', 'lived', 'died', 'euthanized', 'died', 'lived', 'lived', 'lived', 'died', 'lived', 'died', 'died', 'lived', 'lived', 'died', 'lived', 'died', 'died', 'died', 'died', 'euthanized', 'lived', 'died', 'died', 'died', 'died', 'died', 'euthanized', 'lived', 'lived', 'died', 'lived', 'lived', 'lived', 'died', 'died', 'lived', 'died', 'died', 'died', 'died', 'lived', 'died', 'lived', 'died', 'died', 'lived', 'died', 'lived', 'died', 'lived', 'died', 'lived', 'died', 'lived', 'died', 'lived', 'euthanized', 'died', 'died', 'lived', 'died', 'lived', 'lived', 'lived', 'lived', 'died', 'lived', 'lived', 'lived', 'lived', 'died', 'lived']\n"
     ]
    }
   ],
   "source": [
    "print(temp2)"
   ]
  },
  {
   "cell_type": "code",
   "execution_count": null,
   "metadata": {},
   "outputs": [
    {
     "name": "stdout",
     "output_type": "stream",
     "text": [
      "['died', 'lived', 'lived', 'died', 'lived', 'lived', 'died', 'died', 'euthanized', 'died', 'died', 'died', 'died', 'lived', 'euthanized', 'lived', 'lived', 'lived', 'died', 'lived', 'euthanized', 'lived', 'lived', 'lived', 'died', 'died', 'euthanized', 'lived', 'lived', 'euthanized', 'lived', 'died', 'died', 'lived', 'lived', 'died', 'lived', 'lived', 'lived', 'died', 'died', 'euthanized', 'lived', 'lived', 'died', 'lived', 'lived', 'euthanized', 'died', 'died', 'died', 'lived', 'lived', 'lived', 'died', 'lived', 'died', 'lived', 'died', 'died', 'euthanized', 'lived', 'lived', 'died', 'euthanized', 'lived', 'died', 'died', 'lived', 'lived', 'euthanized', 'lived', 'lived', 'lived', 'died', 'died', 'died', 'lived', 'died', 'euthanized', 'died', 'lived', 'died', 'lived', 'died', 'euthanized', 'died', 'lived', 'lived', 'euthanized', 'died', 'lived', 'died', 'euthanized', 'lived', 'lived', 'euthanized', 'lived', 'euthanized', 'died', 'died', 'euthanized', 'euthanized', 'lived', 'lived', 'died', 'euthanized', 'died', 'lived', 'euthanized', 'died', 'lived', 'died', 'lived', 'lived', 'lived', 'died', 'lived', 'lived', 'died', 'died', 'lived', 'lived', 'euthanized', 'lived', 'lived', 'lived', 'died', 'lived', 'died', 'lived', 'died', 'lived', 'died', 'lived', 'lived', 'lived', 'died', 'euthanized', 'lived', 'died', 'died', 'lived', 'died', 'lived', 'lived', 'lived', 'lived', 'lived', 'lived', 'lived', 'lived', 'lived', 'lived', 'euthanized']\n"
     ]
    }
   ],
   "source": [
    "print(temp3)"
   ]
  },
  {
   "cell_type": "code",
   "execution_count": null,
   "metadata": {},
   "outputs": [
    {
     "name": "stdout",
     "output_type": "stream",
     "text": [
      "['died', 'died', 'euthanized', 'died', 'died', 'euthanized', 'died', 'died', 'euthanized', 'died', 'died', 'died', 'died', 'died', 'died', 'died', 'euthanized', 'euthanized', 'died', 'died', 'euthanized', 'died', 'euthanized', 'euthanized', 'died', 'died', 'died', 'died', 'died', 'died', 'died', 'died', 'euthanized', 'euthanized', 'died', 'died', 'died', 'died', 'died', 'died', 'euthanized', 'euthanized', 'died', 'died', 'euthanized', 'died', 'died', 'died', 'died', 'died', 'euthanized', 'euthanized', 'euthanized', 'died', 'died', 'died', 'died', 'died', 'euthanized', 'euthanized', 'died', 'died', 'euthanized', 'died', 'died', 'died', 'euthanized', 'died', 'died', 'died', 'died', 'died', 'euthanized', 'died', 'died', 'died', 'died', 'died', 'died', 'euthanized', 'died', 'died', 'died', 'died', 'died', 'euthanized', 'died', 'died', 'euthanized', 'euthanized', 'died', 'died', 'euthanized', 'died', 'died', 'died', 'euthanized', 'euthanized', 'died', 'died', 'died', 'euthanized', 'euthanized', 'died', 'died', 'died', 'died', 'died', 'died', 'euthanized', 'died', 'euthanized', 'died', 'died', 'died', 'died', 'died', 'died', 'died', 'died', 'died', 'died', 'died', 'died', 'died', 'died', 'euthanized', 'died', 'euthanized', 'died', 'died', 'died', 'died', 'died', 'died', 'died', 'euthanized', 'died', 'died', 'euthanized', 'died', 'died', 'died', 'died', 'died', 'died', 'died', 'died', 'died', 'died', 'died', 'died', 'euthanized', 'died', 'lived']\n"
     ]
    }
   ],
   "source": [
    "print(temp4)"
   ]
  },
  {
   "cell_type": "code",
   "execution_count": null,
   "metadata": {},
   "outputs": [],
   "source": [
    "vote = []\n",
    "\n",
    "for i in range (len(temp1)):\n",
    "    combine = [temp1[i],temp2[i],temp3[i]]\n",
    "    euthanized = combine.count(\"euthanized\")\n",
    "    lived = combine.count(\"lived\")\n",
    "    died = combine.count(\"died\")\n",
    "\n",
    "    if euthanized > 1:\n",
    "        vote.append(\"euthanized\")\n",
    "    elif lived > 1:\n",
    "        vote.append(\"lived\")\n",
    "    elif died > 1:\n",
    "        vote.append(\"died\")\n",
    "    else :\n",
    "        vote.append(\"lived\")"
   ]
  },
  {
   "cell_type": "code",
   "execution_count": null,
   "metadata": {},
   "outputs": [],
   "source": [
    "# print(vote)"
   ]
  },
  {
   "cell_type": "code",
   "execution_count": null,
   "metadata": {},
   "outputs": [],
   "source": [
    "test_label = y_test.to_list()"
   ]
  },
  {
   "cell_type": "code",
   "execution_count": null,
   "metadata": {},
   "outputs": [
    {
     "name": "stdout",
     "output_type": "stream",
     "text": [
      "['died', 'lived', 'euthanized', 'lived', 'died', 'euthanized', 'lived', 'died', 'euthanized', 'lived', 'lived', 'died', 'lived', 'died', 'euthanized', 'lived', 'euthanized', 'lived', 'lived', 'lived', 'lived', 'lived', 'lived', 'lived', 'euthanized', 'died', 'lived', 'died', 'lived', 'died', 'died', 'died', 'lived', 'euthanized', 'lived', 'died', 'died', 'died', 'lived', 'died', 'died', 'euthanized', 'died', 'died', 'euthanized', 'lived', 'lived', 'died', 'died', 'died', 'euthanized', 'lived', 'lived', 'lived', 'died', 'lived', 'lived', 'lived', 'euthanized', 'lived', 'lived', 'lived', 'lived', 'died', 'died', 'lived', 'lived', 'died', 'died', 'died', 'died', 'lived', 'lived', 'lived', 'died', 'lived', 'died', 'lived', 'died', 'euthanized', 'lived', 'died', 'lived', 'lived', 'died', 'died', 'died', 'lived', 'lived', 'euthanized', 'died', 'lived', 'lived', 'lived', 'lived', 'lived', 'died', 'lived', 'euthanized', 'lived', 'lived', 'euthanized', 'euthanized', 'lived', 'died', 'died', 'euthanized', 'died', 'lived', 'lived', 'lived', 'euthanized', 'died', 'lived', 'lived', 'lived', 'died', 'lived', 'lived', 'euthanized', 'died', 'died', 'lived', 'died', 'died', 'lived', 'died', 'died', 'euthanized', 'died', 'lived', 'died', 'lived', 'died', 'lived', 'died', 'lived', 'died', 'euthanized', 'died', 'died', 'lived', 'lived', 'died', 'lived', 'died', 'died', 'lived', 'lived', 'lived', 'lived', 'lived', 'lived', 'lived', 'euthanized']\n"
     ]
    }
   ],
   "source": [
    "print(test_label)"
   ]
  },
  {
   "cell_type": "code",
   "execution_count": null,
   "metadata": {},
   "outputs": [
    {
     "name": "stdout",
     "output_type": "stream",
     "text": [
      "akurasi : 0.6387096774193548\n"
     ]
    }
   ],
   "source": [
    "akurasi = 0\n",
    "\n",
    "for i in range (len(test_label)):\n",
    "    if vote[i] == test_label[i]:\n",
    "        akurasi = akurasi+1\n",
    "\n",
    "print(\"akurasi : \" + str(akurasi/len(test_label)))"
   ]
  },
  {
   "cell_type": "code",
   "execution_count": null,
   "metadata": {},
   "outputs": [
    {
     "name": "stdout",
     "output_type": "stream",
     "text": [
      "akurasi : 0.6193548387096774\n"
     ]
    }
   ],
   "source": [
    "akurasi = 0\n",
    "\n",
    "for i in range (len(test_label)):\n",
    "    if temp1[i] == test_label[i]:\n",
    "        akurasi = akurasi+1\n",
    "\n",
    "print(\"akurasi : \" + str(akurasi/len(test_label)))"
   ]
  },
  {
   "cell_type": "code",
   "execution_count": null,
   "metadata": {},
   "outputs": [
    {
     "name": "stdout",
     "output_type": "stream",
     "text": [
      "akurasi : 0.6709677419354839\n"
     ]
    }
   ],
   "source": [
    "akurasi = 0\n",
    "\n",
    "for i in range (len(test_label)):\n",
    "    if temp2[i] == test_label[i]:\n",
    "        akurasi = akurasi+1\n",
    "\n",
    "print(\"akurasi : \" + str(akurasi/len(test_label)))"
   ]
  },
  {
   "cell_type": "code",
   "execution_count": null,
   "metadata": {},
   "outputs": [
    {
     "name": "stdout",
     "output_type": "stream",
     "text": [
      "akurasi : 0.6129032258064516\n"
     ]
    }
   ],
   "source": [
    "akurasi = 0\n",
    "\n",
    "for i in range (len(test_label)):\n",
    "    if temp3[i] == test_label[i]:\n",
    "        akurasi = akurasi+1\n",
    "\n",
    "print(\"akurasi : \" + str(akurasi/len(test_label)))"
   ]
  },
  {
   "cell_type": "code",
   "execution_count": null,
   "metadata": {},
   "outputs": [
    {
     "name": "stdout",
     "output_type": "stream",
     "text": [
      "akurasi : 0.432258064516129\n"
     ]
    }
   ],
   "source": [
    "akurasi = 0\n",
    "\n",
    "for i in range (len(test_label)):\n",
    "    if temp4[i] == test_label[i]:\n",
    "        akurasi = akurasi+1\n",
    "\n",
    "print(\"akurasi : \" + str(akurasi/len(test_label)))"
   ]
  },
  {
   "cell_type": "code",
   "execution_count": null,
   "metadata": {},
   "outputs": [
    {
     "data": {
      "text/plain": [
       "outcome\n",
       "lived         383\n",
       "died          281\n",
       "euthanized    107\n",
       "Name: count, dtype: int64"
      ]
     },
     "execution_count": 261,
     "metadata": {},
     "output_type": "execute_result"
    }
   ],
   "source": [
    "target.value_counts()"
   ]
  },
  {
   "cell_type": "code",
   "execution_count": null,
   "metadata": {},
   "outputs": [
    {
     "ename": "KeyError",
     "evalue": "\"['hho'] not found in axis\"",
     "output_type": "error",
     "traceback": [
      "\u001b[1;31m---------------------------------------------------------------------------\u001b[0m",
      "\u001b[1;31mKeyError\u001b[0m                                  Traceback (most recent call last)",
      "Cell \u001b[1;32mIn[262], line 3\u001b[0m\n\u001b[0;32m      1\u001b[0m data_test \u001b[38;5;241m=\u001b[39m pd\u001b[38;5;241m.\u001b[39mread_csv(\u001b[38;5;124m\"\u001b[39m\u001b[38;5;124mtest.csv\u001b[39m\u001b[38;5;124m\"\u001b[39m)\n\u001b[1;32m----> 3\u001b[0m data_test \u001b[38;5;241m=\u001b[39m \u001b[43mdata_test\u001b[49m\u001b[38;5;241;43m.\u001b[39;49m\u001b[43mdrop\u001b[49m\u001b[43m(\u001b[49m\u001b[43mcolumns\u001b[49m\u001b[38;5;241;43m=\u001b[39;49m\u001b[43m[\u001b[49m\u001b[38;5;124;43m'\u001b[39;49m\u001b[38;5;124;43mid\u001b[39;49m\u001b[38;5;124;43m'\u001b[39;49m\u001b[43m,\u001b[49m\u001b[38;5;124;43m'\u001b[39;49m\u001b[38;5;124;43mhho\u001b[39;49m\u001b[38;5;124;43m'\u001b[39;49m\u001b[43m]\u001b[49m\u001b[43m)\u001b[49m\n",
      "File \u001b[1;32m~\\AppData\\Local\\Packages\\PythonSoftwareFoundation.Python.3.11_qbz5n2kfra8p0\\LocalCache\\local-packages\\Python311\\site-packages\\pandas\\core\\frame.py:5344\u001b[0m, in \u001b[0;36mDataFrame.drop\u001b[1;34m(self, labels, axis, index, columns, level, inplace, errors)\u001b[0m\n\u001b[0;32m   5196\u001b[0m \u001b[38;5;28;01mdef\u001b[39;00m \u001b[38;5;21mdrop\u001b[39m(\n\u001b[0;32m   5197\u001b[0m     \u001b[38;5;28mself\u001b[39m,\n\u001b[0;32m   5198\u001b[0m     labels: IndexLabel \u001b[38;5;241m|\u001b[39m \u001b[38;5;28;01mNone\u001b[39;00m \u001b[38;5;241m=\u001b[39m \u001b[38;5;28;01mNone\u001b[39;00m,\n\u001b[1;32m   (...)\u001b[0m\n\u001b[0;32m   5205\u001b[0m     errors: IgnoreRaise \u001b[38;5;241m=\u001b[39m \u001b[38;5;124m\"\u001b[39m\u001b[38;5;124mraise\u001b[39m\u001b[38;5;124m\"\u001b[39m,\n\u001b[0;32m   5206\u001b[0m ) \u001b[38;5;241m-\u001b[39m\u001b[38;5;241m>\u001b[39m DataFrame \u001b[38;5;241m|\u001b[39m \u001b[38;5;28;01mNone\u001b[39;00m:\n\u001b[0;32m   5207\u001b[0m \u001b[38;5;250m    \u001b[39m\u001b[38;5;124;03m\"\"\"\u001b[39;00m\n\u001b[0;32m   5208\u001b[0m \u001b[38;5;124;03m    Drop specified labels from rows or columns.\u001b[39;00m\n\u001b[0;32m   5209\u001b[0m \n\u001b[1;32m   (...)\u001b[0m\n\u001b[0;32m   5342\u001b[0m \u001b[38;5;124;03m            weight  1.0     0.8\u001b[39;00m\n\u001b[0;32m   5343\u001b[0m \u001b[38;5;124;03m    \"\"\"\u001b[39;00m\n\u001b[1;32m-> 5344\u001b[0m     \u001b[38;5;28;01mreturn\u001b[39;00m \u001b[38;5;28;43msuper\u001b[39;49m\u001b[43m(\u001b[49m\u001b[43m)\u001b[49m\u001b[38;5;241;43m.\u001b[39;49m\u001b[43mdrop\u001b[49m\u001b[43m(\u001b[49m\n\u001b[0;32m   5345\u001b[0m \u001b[43m        \u001b[49m\u001b[43mlabels\u001b[49m\u001b[38;5;241;43m=\u001b[39;49m\u001b[43mlabels\u001b[49m\u001b[43m,\u001b[49m\n\u001b[0;32m   5346\u001b[0m \u001b[43m        \u001b[49m\u001b[43maxis\u001b[49m\u001b[38;5;241;43m=\u001b[39;49m\u001b[43maxis\u001b[49m\u001b[43m,\u001b[49m\n\u001b[0;32m   5347\u001b[0m \u001b[43m        \u001b[49m\u001b[43mindex\u001b[49m\u001b[38;5;241;43m=\u001b[39;49m\u001b[43mindex\u001b[49m\u001b[43m,\u001b[49m\n\u001b[0;32m   5348\u001b[0m \u001b[43m        \u001b[49m\u001b[43mcolumns\u001b[49m\u001b[38;5;241;43m=\u001b[39;49m\u001b[43mcolumns\u001b[49m\u001b[43m,\u001b[49m\n\u001b[0;32m   5349\u001b[0m \u001b[43m        \u001b[49m\u001b[43mlevel\u001b[49m\u001b[38;5;241;43m=\u001b[39;49m\u001b[43mlevel\u001b[49m\u001b[43m,\u001b[49m\n\u001b[0;32m   5350\u001b[0m \u001b[43m        \u001b[49m\u001b[43minplace\u001b[49m\u001b[38;5;241;43m=\u001b[39;49m\u001b[43minplace\u001b[49m\u001b[43m,\u001b[49m\n\u001b[0;32m   5351\u001b[0m \u001b[43m        \u001b[49m\u001b[43merrors\u001b[49m\u001b[38;5;241;43m=\u001b[39;49m\u001b[43merrors\u001b[49m\u001b[43m,\u001b[49m\n\u001b[0;32m   5352\u001b[0m \u001b[43m    \u001b[49m\u001b[43m)\u001b[49m\n",
      "File \u001b[1;32m~\\AppData\\Local\\Packages\\PythonSoftwareFoundation.Python.3.11_qbz5n2kfra8p0\\LocalCache\\local-packages\\Python311\\site-packages\\pandas\\core\\generic.py:4711\u001b[0m, in \u001b[0;36mNDFrame.drop\u001b[1;34m(self, labels, axis, index, columns, level, inplace, errors)\u001b[0m\n\u001b[0;32m   4709\u001b[0m \u001b[38;5;28;01mfor\u001b[39;00m axis, labels \u001b[38;5;129;01min\u001b[39;00m axes\u001b[38;5;241m.\u001b[39mitems():\n\u001b[0;32m   4710\u001b[0m     \u001b[38;5;28;01mif\u001b[39;00m labels \u001b[38;5;129;01mis\u001b[39;00m \u001b[38;5;129;01mnot\u001b[39;00m \u001b[38;5;28;01mNone\u001b[39;00m:\n\u001b[1;32m-> 4711\u001b[0m         obj \u001b[38;5;241m=\u001b[39m \u001b[43mobj\u001b[49m\u001b[38;5;241;43m.\u001b[39;49m\u001b[43m_drop_axis\u001b[49m\u001b[43m(\u001b[49m\u001b[43mlabels\u001b[49m\u001b[43m,\u001b[49m\u001b[43m \u001b[49m\u001b[43maxis\u001b[49m\u001b[43m,\u001b[49m\u001b[43m \u001b[49m\u001b[43mlevel\u001b[49m\u001b[38;5;241;43m=\u001b[39;49m\u001b[43mlevel\u001b[49m\u001b[43m,\u001b[49m\u001b[43m \u001b[49m\u001b[43merrors\u001b[49m\u001b[38;5;241;43m=\u001b[39;49m\u001b[43merrors\u001b[49m\u001b[43m)\u001b[49m\n\u001b[0;32m   4713\u001b[0m \u001b[38;5;28;01mif\u001b[39;00m inplace:\n\u001b[0;32m   4714\u001b[0m     \u001b[38;5;28mself\u001b[39m\u001b[38;5;241m.\u001b[39m_update_inplace(obj)\n",
      "File \u001b[1;32m~\\AppData\\Local\\Packages\\PythonSoftwareFoundation.Python.3.11_qbz5n2kfra8p0\\LocalCache\\local-packages\\Python311\\site-packages\\pandas\\core\\generic.py:4753\u001b[0m, in \u001b[0;36mNDFrame._drop_axis\u001b[1;34m(self, labels, axis, level, errors, only_slice)\u001b[0m\n\u001b[0;32m   4751\u001b[0m         new_axis \u001b[38;5;241m=\u001b[39m axis\u001b[38;5;241m.\u001b[39mdrop(labels, level\u001b[38;5;241m=\u001b[39mlevel, errors\u001b[38;5;241m=\u001b[39merrors)\n\u001b[0;32m   4752\u001b[0m     \u001b[38;5;28;01melse\u001b[39;00m:\n\u001b[1;32m-> 4753\u001b[0m         new_axis \u001b[38;5;241m=\u001b[39m \u001b[43maxis\u001b[49m\u001b[38;5;241;43m.\u001b[39;49m\u001b[43mdrop\u001b[49m\u001b[43m(\u001b[49m\u001b[43mlabels\u001b[49m\u001b[43m,\u001b[49m\u001b[43m \u001b[49m\u001b[43merrors\u001b[49m\u001b[38;5;241;43m=\u001b[39;49m\u001b[43merrors\u001b[49m\u001b[43m)\u001b[49m\n\u001b[0;32m   4754\u001b[0m     indexer \u001b[38;5;241m=\u001b[39m axis\u001b[38;5;241m.\u001b[39mget_indexer(new_axis)\n\u001b[0;32m   4756\u001b[0m \u001b[38;5;66;03m# Case for non-unique axis\u001b[39;00m\n\u001b[0;32m   4757\u001b[0m \u001b[38;5;28;01melse\u001b[39;00m:\n",
      "File \u001b[1;32m~\\AppData\\Local\\Packages\\PythonSoftwareFoundation.Python.3.11_qbz5n2kfra8p0\\LocalCache\\local-packages\\Python311\\site-packages\\pandas\\core\\indexes\\base.py:6992\u001b[0m, in \u001b[0;36mIndex.drop\u001b[1;34m(self, labels, errors)\u001b[0m\n\u001b[0;32m   6990\u001b[0m \u001b[38;5;28;01mif\u001b[39;00m mask\u001b[38;5;241m.\u001b[39many():\n\u001b[0;32m   6991\u001b[0m     \u001b[38;5;28;01mif\u001b[39;00m errors \u001b[38;5;241m!=\u001b[39m \u001b[38;5;124m\"\u001b[39m\u001b[38;5;124mignore\u001b[39m\u001b[38;5;124m\"\u001b[39m:\n\u001b[1;32m-> 6992\u001b[0m         \u001b[38;5;28;01mraise\u001b[39;00m \u001b[38;5;167;01mKeyError\u001b[39;00m(\u001b[38;5;124mf\u001b[39m\u001b[38;5;124m\"\u001b[39m\u001b[38;5;132;01m{\u001b[39;00mlabels[mask]\u001b[38;5;241m.\u001b[39mtolist()\u001b[38;5;132;01m}\u001b[39;00m\u001b[38;5;124m not found in axis\u001b[39m\u001b[38;5;124m\"\u001b[39m)\n\u001b[0;32m   6993\u001b[0m     indexer \u001b[38;5;241m=\u001b[39m indexer[\u001b[38;5;241m~\u001b[39mmask]\n\u001b[0;32m   6994\u001b[0m \u001b[38;5;28;01mreturn\u001b[39;00m \u001b[38;5;28mself\u001b[39m\u001b[38;5;241m.\u001b[39mdelete(indexer)\n",
      "\u001b[1;31mKeyError\u001b[0m: \"['hho'] not found in axis\""
     ]
    }
   ],
   "source": [
    "data_test = pd.read_csv(\"test.csv\")\n",
    "\n",
    "data_test = data_test.drop(columns=['id','hho'])"
   ]
  },
  {
   "cell_type": "code",
   "execution_count": null,
   "metadata": {},
   "outputs": [],
   "source": [
    "numerical_data = data_test.select_dtypes(include=[int, float])\n",
    "categorical_data = data_test.select_dtypes(include=object)\n",
    "\n",
    "data_test = pd.merge(left=numerical_data, right=categorical_data, left_index=True, right_index=True, how='inner')"
   ]
  },
  {
   "cell_type": "code",
   "execution_count": null,
   "metadata": {},
   "outputs": [
    {
     "name": "stdout",
     "output_type": "stream",
     "text": [
      "<class 'pandas.core.frame.DataFrame'>\n",
      "RangeIndex: 824 entries, 0 to 823\n",
      "Data columns (total 18 columns):\n",
      " #   Column                 Non-Null Count  Dtype  \n",
      "---  ------                 --------------  -----  \n",
      " 0   rectal_temp            824 non-null    float64\n",
      " 1   pulse                  824 non-null    float64\n",
      " 2   respiratory_rate       824 non-null    float64\n",
      " 3   nasogastric_reflux_ph  824 non-null    float64\n",
      " 4   packed_cell_volume     824 non-null    float64\n",
      " 5   total_protein          824 non-null    float64\n",
      " 6   abdomo_protein         824 non-null    float64\n",
      " 7   surgery                824 non-null    object \n",
      " 8   peripheral_pulse       777 non-null    object \n",
      " 9   capillary_refill_time  818 non-null    object \n",
      " 10  pain                   795 non-null    object \n",
      " 11  peristalsis            805 non-null    object \n",
      " 12  abdominal_distention   802 non-null    object \n",
      " 13  rectal_exam_feces      699 non-null    object \n",
      " 14  abdomen                670 non-null    object \n",
      " 15  abdomo_appearance      793 non-null    object \n",
      " 16  surgical_lesion        824 non-null    object \n",
      " 17  cp_data                824 non-null    object \n",
      "dtypes: float64(7), object(11)\n",
      "memory usage: 116.0+ KB\n"
     ]
    }
   ],
   "source": [
    "data_test.info()"
   ]
  },
  {
   "cell_type": "code",
   "execution_count": null,
   "metadata": {},
   "outputs": [
    {
     "ename": "ValueError",
     "evalue": "The feature names should match those that were passed during fit.\nFeature names seen at fit time, yet now missing:\n- age\n- lesion_1\n- lesion_2\n- lesion_3\n- mucous_membrane\n- ...\n",
     "output_type": "error",
     "traceback": [
      "\u001b[1;31m---------------------------------------------------------------------------\u001b[0m",
      "\u001b[1;31mValueError\u001b[0m                                Traceback (most recent call last)",
      "Cell \u001b[1;32mIn[14737], line 1\u001b[0m\n\u001b[1;32m----> 1\u001b[0m hasil \u001b[38;5;241m=\u001b[39m \u001b[43mmodel3\u001b[49m\u001b[38;5;241;43m.\u001b[39;49m\u001b[43mpredict\u001b[49m\u001b[43m(\u001b[49m\u001b[43mdata_test\u001b[49m\u001b[43m)\u001b[49m\n",
      "File \u001b[1;32m~\\AppData\\Local\\Packages\\PythonSoftwareFoundation.Python.3.11_qbz5n2kfra8p0\\LocalCache\\local-packages\\Python311\\site-packages\\sklearn\\tree\\_classes.py:500\u001b[0m, in \u001b[0;36mBaseDecisionTree.predict\u001b[1;34m(self, X, check_input)\u001b[0m\n\u001b[0;32m    477\u001b[0m \u001b[38;5;250m\u001b[39m\u001b[38;5;124;03m\"\"\"Predict class or regression value for X.\u001b[39;00m\n\u001b[0;32m    478\u001b[0m \n\u001b[0;32m    479\u001b[0m \u001b[38;5;124;03mFor a classification model, the predicted class for each sample in X is\u001b[39;00m\n\u001b[1;32m   (...)\u001b[0m\n\u001b[0;32m    497\u001b[0m \u001b[38;5;124;03m    The predicted classes, or the predict values.\u001b[39;00m\n\u001b[0;32m    498\u001b[0m \u001b[38;5;124;03m\"\"\"\u001b[39;00m\n\u001b[0;32m    499\u001b[0m check_is_fitted(\u001b[38;5;28mself\u001b[39m)\n\u001b[1;32m--> 500\u001b[0m X \u001b[38;5;241m=\u001b[39m \u001b[38;5;28;43mself\u001b[39;49m\u001b[38;5;241;43m.\u001b[39;49m\u001b[43m_validate_X_predict\u001b[49m\u001b[43m(\u001b[49m\u001b[43mX\u001b[49m\u001b[43m,\u001b[49m\u001b[43m \u001b[49m\u001b[43mcheck_input\u001b[49m\u001b[43m)\u001b[49m\n\u001b[0;32m    501\u001b[0m proba \u001b[38;5;241m=\u001b[39m \u001b[38;5;28mself\u001b[39m\u001b[38;5;241m.\u001b[39mtree_\u001b[38;5;241m.\u001b[39mpredict(X)\n\u001b[0;32m    502\u001b[0m n_samples \u001b[38;5;241m=\u001b[39m X\u001b[38;5;241m.\u001b[39mshape[\u001b[38;5;241m0\u001b[39m]\n",
      "File \u001b[1;32m~\\AppData\\Local\\Packages\\PythonSoftwareFoundation.Python.3.11_qbz5n2kfra8p0\\LocalCache\\local-packages\\Python311\\site-packages\\sklearn\\tree\\_classes.py:460\u001b[0m, in \u001b[0;36mBaseDecisionTree._validate_X_predict\u001b[1;34m(self, X, check_input)\u001b[0m\n\u001b[0;32m    458\u001b[0m \u001b[38;5;28;01melse\u001b[39;00m:\n\u001b[0;32m    459\u001b[0m     force_all_finite \u001b[38;5;241m=\u001b[39m \u001b[38;5;28;01mTrue\u001b[39;00m\n\u001b[1;32m--> 460\u001b[0m X \u001b[38;5;241m=\u001b[39m \u001b[38;5;28;43mself\u001b[39;49m\u001b[38;5;241;43m.\u001b[39;49m\u001b[43m_validate_data\u001b[49m\u001b[43m(\u001b[49m\n\u001b[0;32m    461\u001b[0m \u001b[43m    \u001b[49m\u001b[43mX\u001b[49m\u001b[43m,\u001b[49m\n\u001b[0;32m    462\u001b[0m \u001b[43m    \u001b[49m\u001b[43mdtype\u001b[49m\u001b[38;5;241;43m=\u001b[39;49m\u001b[43mDTYPE\u001b[49m\u001b[43m,\u001b[49m\n\u001b[0;32m    463\u001b[0m \u001b[43m    \u001b[49m\u001b[43maccept_sparse\u001b[49m\u001b[38;5;241;43m=\u001b[39;49m\u001b[38;5;124;43m\"\u001b[39;49m\u001b[38;5;124;43mcsr\u001b[39;49m\u001b[38;5;124;43m\"\u001b[39;49m\u001b[43m,\u001b[49m\n\u001b[0;32m    464\u001b[0m \u001b[43m    \u001b[49m\u001b[43mreset\u001b[49m\u001b[38;5;241;43m=\u001b[39;49m\u001b[38;5;28;43;01mFalse\u001b[39;49;00m\u001b[43m,\u001b[49m\n\u001b[0;32m    465\u001b[0m \u001b[43m    \u001b[49m\u001b[43mforce_all_finite\u001b[49m\u001b[38;5;241;43m=\u001b[39;49m\u001b[43mforce_all_finite\u001b[49m\u001b[43m,\u001b[49m\n\u001b[0;32m    466\u001b[0m \u001b[43m\u001b[49m\u001b[43m)\u001b[49m\n\u001b[0;32m    467\u001b[0m \u001b[38;5;28;01mif\u001b[39;00m issparse(X) \u001b[38;5;129;01mand\u001b[39;00m (\n\u001b[0;32m    468\u001b[0m     X\u001b[38;5;241m.\u001b[39mindices\u001b[38;5;241m.\u001b[39mdtype \u001b[38;5;241m!=\u001b[39m np\u001b[38;5;241m.\u001b[39mintc \u001b[38;5;129;01mor\u001b[39;00m X\u001b[38;5;241m.\u001b[39mindptr\u001b[38;5;241m.\u001b[39mdtype \u001b[38;5;241m!=\u001b[39m np\u001b[38;5;241m.\u001b[39mintc\n\u001b[0;32m    469\u001b[0m ):\n\u001b[0;32m    470\u001b[0m     \u001b[38;5;28;01mraise\u001b[39;00m \u001b[38;5;167;01mValueError\u001b[39;00m(\u001b[38;5;124m\"\u001b[39m\u001b[38;5;124mNo support for np.int64 index based sparse matrices\u001b[39m\u001b[38;5;124m\"\u001b[39m)\n",
      "File \u001b[1;32m~\\AppData\\Local\\Packages\\PythonSoftwareFoundation.Python.3.11_qbz5n2kfra8p0\\LocalCache\\local-packages\\Python311\\site-packages\\sklearn\\base.py:580\u001b[0m, in \u001b[0;36mBaseEstimator._validate_data\u001b[1;34m(self, X, y, reset, validate_separately, cast_to_ndarray, **check_params)\u001b[0m\n\u001b[0;32m    509\u001b[0m \u001b[38;5;28;01mdef\u001b[39;00m \u001b[38;5;21m_validate_data\u001b[39m(\n\u001b[0;32m    510\u001b[0m     \u001b[38;5;28mself\u001b[39m,\n\u001b[0;32m    511\u001b[0m     X\u001b[38;5;241m=\u001b[39m\u001b[38;5;124m\"\u001b[39m\u001b[38;5;124mno_validation\u001b[39m\u001b[38;5;124m\"\u001b[39m,\n\u001b[1;32m   (...)\u001b[0m\n\u001b[0;32m    516\u001b[0m     \u001b[38;5;241m*\u001b[39m\u001b[38;5;241m*\u001b[39mcheck_params,\n\u001b[0;32m    517\u001b[0m ):\n\u001b[0;32m    518\u001b[0m \u001b[38;5;250m    \u001b[39m\u001b[38;5;124;03m\"\"\"Validate input data and set or check the `n_features_in_` attribute.\u001b[39;00m\n\u001b[0;32m    519\u001b[0m \n\u001b[0;32m    520\u001b[0m \u001b[38;5;124;03m    Parameters\u001b[39;00m\n\u001b[1;32m   (...)\u001b[0m\n\u001b[0;32m    578\u001b[0m \u001b[38;5;124;03m        validated.\u001b[39;00m\n\u001b[0;32m    579\u001b[0m \u001b[38;5;124;03m    \"\"\"\u001b[39;00m\n\u001b[1;32m--> 580\u001b[0m     \u001b[38;5;28;43mself\u001b[39;49m\u001b[38;5;241;43m.\u001b[39;49m\u001b[43m_check_feature_names\u001b[49m\u001b[43m(\u001b[49m\u001b[43mX\u001b[49m\u001b[43m,\u001b[49m\u001b[43m \u001b[49m\u001b[43mreset\u001b[49m\u001b[38;5;241;43m=\u001b[39;49m\u001b[43mreset\u001b[49m\u001b[43m)\u001b[49m\n\u001b[0;32m    582\u001b[0m     \u001b[38;5;28;01mif\u001b[39;00m y \u001b[38;5;129;01mis\u001b[39;00m \u001b[38;5;28;01mNone\u001b[39;00m \u001b[38;5;129;01mand\u001b[39;00m \u001b[38;5;28mself\u001b[39m\u001b[38;5;241m.\u001b[39m_get_tags()[\u001b[38;5;124m\"\u001b[39m\u001b[38;5;124mrequires_y\u001b[39m\u001b[38;5;124m\"\u001b[39m]:\n\u001b[0;32m    583\u001b[0m         \u001b[38;5;28;01mraise\u001b[39;00m \u001b[38;5;167;01mValueError\u001b[39;00m(\n\u001b[0;32m    584\u001b[0m             \u001b[38;5;124mf\u001b[39m\u001b[38;5;124m\"\u001b[39m\u001b[38;5;124mThis \u001b[39m\u001b[38;5;132;01m{\u001b[39;00m\u001b[38;5;28mself\u001b[39m\u001b[38;5;241m.\u001b[39m\u001b[38;5;18m__class__\u001b[39m\u001b[38;5;241m.\u001b[39m\u001b[38;5;18m__name__\u001b[39m\u001b[38;5;132;01m}\u001b[39;00m\u001b[38;5;124m estimator \u001b[39m\u001b[38;5;124m\"\u001b[39m\n\u001b[0;32m    585\u001b[0m             \u001b[38;5;124m\"\u001b[39m\u001b[38;5;124mrequires y to be passed, but the target y is None.\u001b[39m\u001b[38;5;124m\"\u001b[39m\n\u001b[0;32m    586\u001b[0m         )\n",
      "File \u001b[1;32m~\\AppData\\Local\\Packages\\PythonSoftwareFoundation.Python.3.11_qbz5n2kfra8p0\\LocalCache\\local-packages\\Python311\\site-packages\\sklearn\\base.py:507\u001b[0m, in \u001b[0;36mBaseEstimator._check_feature_names\u001b[1;34m(self, X, reset)\u001b[0m\n\u001b[0;32m    502\u001b[0m \u001b[38;5;28;01mif\u001b[39;00m \u001b[38;5;129;01mnot\u001b[39;00m missing_names \u001b[38;5;129;01mand\u001b[39;00m \u001b[38;5;129;01mnot\u001b[39;00m unexpected_names:\n\u001b[0;32m    503\u001b[0m     message \u001b[38;5;241m+\u001b[39m\u001b[38;5;241m=\u001b[39m (\n\u001b[0;32m    504\u001b[0m         \u001b[38;5;124m\"\u001b[39m\u001b[38;5;124mFeature names must be in the same order as they were in fit.\u001b[39m\u001b[38;5;130;01m\\n\u001b[39;00m\u001b[38;5;124m\"\u001b[39m\n\u001b[0;32m    505\u001b[0m     )\n\u001b[1;32m--> 507\u001b[0m \u001b[38;5;28;01mraise\u001b[39;00m \u001b[38;5;167;01mValueError\u001b[39;00m(message)\n",
      "\u001b[1;31mValueError\u001b[0m: The feature names should match those that were passed during fit.\nFeature names seen at fit time, yet now missing:\n- age\n- lesion_1\n- lesion_2\n- lesion_3\n- mucous_membrane\n- ...\n"
     ]
    }
   ],
   "source": [
    "hasil = model3.predict(data_test)"
   ]
  },
  {
   "cell_type": "code",
   "execution_count": null,
   "metadata": {},
   "outputs": [],
   "source": []
  }
 ],
 "metadata": {
  "kernelspec": {
   "display_name": "Python 3",
   "language": "python",
   "name": "python3"
  },
  "language_info": {
   "codemirror_mode": {
    "name": "ipython",
    "version": 3
   },
   "file_extension": ".py",
   "mimetype": "text/x-python",
   "name": "python",
   "nbconvert_exporter": "python",
   "pygments_lexer": "ipython3",
   "version": "3.11.9"
  }
 },
 "nbformat": 4,
 "nbformat_minor": 2
}
