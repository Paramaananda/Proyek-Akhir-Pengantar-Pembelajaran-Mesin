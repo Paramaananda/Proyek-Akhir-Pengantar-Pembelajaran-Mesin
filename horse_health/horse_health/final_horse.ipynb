{
 "cells": [
  {
   "cell_type": "code",
   "execution_count": 406,
   "metadata": {},
   "outputs": [],
   "source": [
    "import pandas as pd\n",
    "import numpy as np\n",
    "from sklearn.preprocessing import OneHotEncoder\n",
    "from sklearn.preprocessing import normalize\n",
    "from sklearn.model_selection import train_test_split\n",
    "from sklearn.neighbors import KNeighborsClassifier\n",
    "from sklearn.naive_bayes import GaussianNB\n",
    "from sklearn.svm import SVC\n",
    "from sklearn.tree import DecisionTreeClassifier\n",
    "from sklearn.ensemble import RandomForestClassifier\n",
    "from sklearn.ensemble import GradientBoostingClassifier\n",
    "from sklearn.decomposition import PCA\n",
    "from sklearn.metrics import accuracy_score"
   ]
  },
  {
   "cell_type": "markdown",
   "metadata": {},
   "source": [
    "Membaca data"
   ]
  },
  {
   "cell_type": "code",
   "execution_count": 407,
   "metadata": {},
   "outputs": [],
   "source": [
    "df = pd.read_csv(\"train.csv\")"
   ]
  },
  {
   "cell_type": "code",
   "execution_count": 408,
   "metadata": {},
   "outputs": [
    {
     "name": "stdout",
     "output_type": "stream",
     "text": [
      "<class 'pandas.core.frame.DataFrame'>\n",
      "RangeIndex: 1235 entries, 0 to 1234\n",
      "Data columns (total 29 columns):\n",
      " #   Column                 Non-Null Count  Dtype  \n",
      "---  ------                 --------------  -----  \n",
      " 0   id                     1235 non-null   int64  \n",
      " 1   surgery                1235 non-null   object \n",
      " 2   age                    1235 non-null   object \n",
      " 3   hospital_number        1235 non-null   int64  \n",
      " 4   rectal_temp            1235 non-null   float64\n",
      " 5   pulse                  1235 non-null   float64\n",
      " 6   respiratory_rate       1235 non-null   float64\n",
      " 7   temp_of_extremities    1196 non-null   object \n",
      " 8   peripheral_pulse       1175 non-null   object \n",
      " 9   mucous_membrane        1214 non-null   object \n",
      " 10  capillary_refill_time  1229 non-null   object \n",
      " 11  pain                   1191 non-null   object \n",
      " 12  peristalsis            1215 non-null   object \n",
      " 13  abdominal_distention   1212 non-null   object \n",
      " 14  nasogastric_tube       1155 non-null   object \n",
      " 15  nasogastric_reflux     1214 non-null   object \n",
      " 16  nasogastric_reflux_ph  1235 non-null   float64\n",
      " 17  rectal_exam_feces      1045 non-null   object \n",
      " 18  abdomen                1022 non-null   object \n",
      " 19  packed_cell_volume     1235 non-null   float64\n",
      " 20  total_protein          1235 non-null   float64\n",
      " 21  abdomo_appearance      1187 non-null   object \n",
      " 22  abdomo_protein         1235 non-null   float64\n",
      " 23  surgical_lesion        1235 non-null   object \n",
      " 24  lesion_1               1235 non-null   int64  \n",
      " 25  lesion_2               1235 non-null   int64  \n",
      " 26  lesion_3               1235 non-null   int64  \n",
      " 27  cp_data                1235 non-null   object \n",
      " 28  outcome                1235 non-null   object \n",
      "dtypes: float64(7), int64(5), object(17)\n",
      "memory usage: 279.9+ KB\n"
     ]
    }
   ],
   "source": [
    "df.info()"
   ]
  },
  {
   "cell_type": "markdown",
   "metadata": {},
   "source": [
    "Menghapus kolom yang tidak digunakan"
   ]
  },
  {
   "cell_type": "code",
   "execution_count": 409,
   "metadata": {},
   "outputs": [],
   "source": [
    "df = df.drop_duplicates()\n",
    "df = df.drop(columns=['id','hospital_number'])"
   ]
  },
  {
   "cell_type": "code",
   "execution_count": 410,
   "metadata": {},
   "outputs": [
    {
     "name": "stdout",
     "output_type": "stream",
     "text": [
      "<class 'pandas.core.frame.DataFrame'>\n",
      "RangeIndex: 1235 entries, 0 to 1234\n",
      "Data columns (total 27 columns):\n",
      " #   Column                 Non-Null Count  Dtype  \n",
      "---  ------                 --------------  -----  \n",
      " 0   surgery                1235 non-null   object \n",
      " 1   age                    1235 non-null   object \n",
      " 2   rectal_temp            1235 non-null   float64\n",
      " 3   pulse                  1235 non-null   float64\n",
      " 4   respiratory_rate       1235 non-null   float64\n",
      " 5   temp_of_extremities    1196 non-null   object \n",
      " 6   peripheral_pulse       1175 non-null   object \n",
      " 7   mucous_membrane        1214 non-null   object \n",
      " 8   capillary_refill_time  1229 non-null   object \n",
      " 9   pain                   1191 non-null   object \n",
      " 10  peristalsis            1215 non-null   object \n",
      " 11  abdominal_distention   1212 non-null   object \n",
      " 12  nasogastric_tube       1155 non-null   object \n",
      " 13  nasogastric_reflux     1214 non-null   object \n",
      " 14  nasogastric_reflux_ph  1235 non-null   float64\n",
      " 15  rectal_exam_feces      1045 non-null   object \n",
      " 16  abdomen                1022 non-null   object \n",
      " 17  packed_cell_volume     1235 non-null   float64\n",
      " 18  total_protein          1235 non-null   float64\n",
      " 19  abdomo_appearance      1187 non-null   object \n",
      " 20  abdomo_protein         1235 non-null   float64\n",
      " 21  surgical_lesion        1235 non-null   object \n",
      " 22  lesion_1               1235 non-null   int64  \n",
      " 23  lesion_2               1235 non-null   int64  \n",
      " 24  lesion_3               1235 non-null   int64  \n",
      " 25  cp_data                1235 non-null   object \n",
      " 26  outcome                1235 non-null   object \n",
      "dtypes: float64(7), int64(3), object(17)\n",
      "memory usage: 260.6+ KB\n"
     ]
    }
   ],
   "source": [
    "df.info()"
   ]
  },
  {
   "cell_type": "markdown",
   "metadata": {},
   "source": [
    "Inputasi NaN value"
   ]
  },
  {
   "cell_type": "code",
   "execution_count": 411,
   "metadata": {},
   "outputs": [],
   "source": [
    "for column in df.columns:\n",
    "    if df[column].dtype == 'object':\n",
    "        df[column] = df[column].fillna(df[column].mode().iloc[0])\n",
    "    else:\n",
    "        df[column] = df[column].fillna(df[column].mean())"
   ]
  },
  {
   "cell_type": "code",
   "execution_count": 412,
   "metadata": {},
   "outputs": [
    {
     "name": "stdout",
     "output_type": "stream",
     "text": [
      "<class 'pandas.core.frame.DataFrame'>\n",
      "RangeIndex: 1235 entries, 0 to 1234\n",
      "Data columns (total 27 columns):\n",
      " #   Column                 Non-Null Count  Dtype  \n",
      "---  ------                 --------------  -----  \n",
      " 0   surgery                1235 non-null   object \n",
      " 1   age                    1235 non-null   object \n",
      " 2   rectal_temp            1235 non-null   float64\n",
      " 3   pulse                  1235 non-null   float64\n",
      " 4   respiratory_rate       1235 non-null   float64\n",
      " 5   temp_of_extremities    1235 non-null   object \n",
      " 6   peripheral_pulse       1235 non-null   object \n",
      " 7   mucous_membrane        1235 non-null   object \n",
      " 8   capillary_refill_time  1235 non-null   object \n",
      " 9   pain                   1235 non-null   object \n",
      " 10  peristalsis            1235 non-null   object \n",
      " 11  abdominal_distention   1235 non-null   object \n",
      " 12  nasogastric_tube       1235 non-null   object \n",
      " 13  nasogastric_reflux     1235 non-null   object \n",
      " 14  nasogastric_reflux_ph  1235 non-null   float64\n",
      " 15  rectal_exam_feces      1235 non-null   object \n",
      " 16  abdomen                1235 non-null   object \n",
      " 17  packed_cell_volume     1235 non-null   float64\n",
      " 18  total_protein          1235 non-null   float64\n",
      " 19  abdomo_appearance      1235 non-null   object \n",
      " 20  abdomo_protein         1235 non-null   float64\n",
      " 21  surgical_lesion        1235 non-null   object \n",
      " 22  lesion_1               1235 non-null   int64  \n",
      " 23  lesion_2               1235 non-null   int64  \n",
      " 24  lesion_3               1235 non-null   int64  \n",
      " 25  cp_data                1235 non-null   object \n",
      " 26  outcome                1235 non-null   object \n",
      "dtypes: float64(7), int64(3), object(17)\n",
      "memory usage: 260.6+ KB\n"
     ]
    }
   ],
   "source": [
    "df.info()"
   ]
  },
  {
   "cell_type": "code",
   "execution_count": 413,
   "metadata": {},
   "outputs": [],
   "source": [
    "new_df = pd.DataFrame()"
   ]
  },
  {
   "cell_type": "markdown",
   "metadata": {},
   "source": [
    "Encoding data"
   ]
  },
  {
   "cell_type": "code",
   "execution_count": 414,
   "metadata": {},
   "outputs": [
    {
     "name": "stderr",
     "output_type": "stream",
     "text": [
      "C:\\Users\\jonat\\AppData\\Local\\Packages\\PythonSoftwareFoundation.Python.3.11_qbz5n2kfra8p0\\LocalCache\\local-packages\\Python311\\site-packages\\sklearn\\preprocessing\\_encoders.py:975: FutureWarning: `sparse` was renamed to `sparse_output` in version 1.2 and will be removed in 1.4. `sparse_output` is ignored unless you leave `sparse` to its default value.\n",
      "  warnings.warn(\n",
      "C:\\Users\\jonat\\AppData\\Local\\Packages\\PythonSoftwareFoundation.Python.3.11_qbz5n2kfra8p0\\LocalCache\\local-packages\\Python311\\site-packages\\sklearn\\preprocessing\\_encoders.py:975: FutureWarning: `sparse` was renamed to `sparse_output` in version 1.2 and will be removed in 1.4. `sparse_output` is ignored unless you leave `sparse` to its default value.\n",
      "  warnings.warn(\n",
      "C:\\Users\\jonat\\AppData\\Local\\Packages\\PythonSoftwareFoundation.Python.3.11_qbz5n2kfra8p0\\LocalCache\\local-packages\\Python311\\site-packages\\sklearn\\preprocessing\\_encoders.py:975: FutureWarning: `sparse` was renamed to `sparse_output` in version 1.2 and will be removed in 1.4. `sparse_output` is ignored unless you leave `sparse` to its default value.\n",
      "  warnings.warn(\n",
      "C:\\Users\\jonat\\AppData\\Local\\Packages\\PythonSoftwareFoundation.Python.3.11_qbz5n2kfra8p0\\LocalCache\\local-packages\\Python311\\site-packages\\sklearn\\preprocessing\\_encoders.py:975: FutureWarning: `sparse` was renamed to `sparse_output` in version 1.2 and will be removed in 1.4. `sparse_output` is ignored unless you leave `sparse` to its default value.\n",
      "  warnings.warn(\n",
      "C:\\Users\\jonat\\AppData\\Local\\Packages\\PythonSoftwareFoundation.Python.3.11_qbz5n2kfra8p0\\LocalCache\\local-packages\\Python311\\site-packages\\sklearn\\preprocessing\\_encoders.py:975: FutureWarning: `sparse` was renamed to `sparse_output` in version 1.2 and will be removed in 1.4. `sparse_output` is ignored unless you leave `sparse` to its default value.\n",
      "  warnings.warn(\n",
      "C:\\Users\\jonat\\AppData\\Local\\Packages\\PythonSoftwareFoundation.Python.3.11_qbz5n2kfra8p0\\LocalCache\\local-packages\\Python311\\site-packages\\sklearn\\preprocessing\\_encoders.py:975: FutureWarning: `sparse` was renamed to `sparse_output` in version 1.2 and will be removed in 1.4. `sparse_output` is ignored unless you leave `sparse` to its default value.\n",
      "  warnings.warn(\n",
      "C:\\Users\\jonat\\AppData\\Local\\Packages\\PythonSoftwareFoundation.Python.3.11_qbz5n2kfra8p0\\LocalCache\\local-packages\\Python311\\site-packages\\sklearn\\preprocessing\\_encoders.py:975: FutureWarning: `sparse` was renamed to `sparse_output` in version 1.2 and will be removed in 1.4. `sparse_output` is ignored unless you leave `sparse` to its default value.\n",
      "  warnings.warn(\n",
      "C:\\Users\\jonat\\AppData\\Local\\Packages\\PythonSoftwareFoundation.Python.3.11_qbz5n2kfra8p0\\LocalCache\\local-packages\\Python311\\site-packages\\sklearn\\preprocessing\\_encoders.py:975: FutureWarning: `sparse` was renamed to `sparse_output` in version 1.2 and will be removed in 1.4. `sparse_output` is ignored unless you leave `sparse` to its default value.\n",
      "  warnings.warn(\n",
      "C:\\Users\\jonat\\AppData\\Local\\Packages\\PythonSoftwareFoundation.Python.3.11_qbz5n2kfra8p0\\LocalCache\\local-packages\\Python311\\site-packages\\sklearn\\preprocessing\\_encoders.py:975: FutureWarning: `sparse` was renamed to `sparse_output` in version 1.2 and will be removed in 1.4. `sparse_output` is ignored unless you leave `sparse` to its default value.\n",
      "  warnings.warn(\n",
      "C:\\Users\\jonat\\AppData\\Local\\Packages\\PythonSoftwareFoundation.Python.3.11_qbz5n2kfra8p0\\LocalCache\\local-packages\\Python311\\site-packages\\sklearn\\preprocessing\\_encoders.py:975: FutureWarning: `sparse` was renamed to `sparse_output` in version 1.2 and will be removed in 1.4. `sparse_output` is ignored unless you leave `sparse` to its default value.\n",
      "  warnings.warn(\n",
      "C:\\Users\\jonat\\AppData\\Local\\Packages\\PythonSoftwareFoundation.Python.3.11_qbz5n2kfra8p0\\LocalCache\\local-packages\\Python311\\site-packages\\sklearn\\preprocessing\\_encoders.py:975: FutureWarning: `sparse` was renamed to `sparse_output` in version 1.2 and will be removed in 1.4. `sparse_output` is ignored unless you leave `sparse` to its default value.\n",
      "  warnings.warn(\n",
      "C:\\Users\\jonat\\AppData\\Local\\Packages\\PythonSoftwareFoundation.Python.3.11_qbz5n2kfra8p0\\LocalCache\\local-packages\\Python311\\site-packages\\sklearn\\preprocessing\\_encoders.py:975: FutureWarning: `sparse` was renamed to `sparse_output` in version 1.2 and will be removed in 1.4. `sparse_output` is ignored unless you leave `sparse` to its default value.\n",
      "  warnings.warn(\n",
      "C:\\Users\\jonat\\AppData\\Local\\Packages\\PythonSoftwareFoundation.Python.3.11_qbz5n2kfra8p0\\LocalCache\\local-packages\\Python311\\site-packages\\sklearn\\preprocessing\\_encoders.py:975: FutureWarning: `sparse` was renamed to `sparse_output` in version 1.2 and will be removed in 1.4. `sparse_output` is ignored unless you leave `sparse` to its default value.\n",
      "  warnings.warn(\n",
      "C:\\Users\\jonat\\AppData\\Local\\Packages\\PythonSoftwareFoundation.Python.3.11_qbz5n2kfra8p0\\LocalCache\\local-packages\\Python311\\site-packages\\sklearn\\preprocessing\\_encoders.py:975: FutureWarning: `sparse` was renamed to `sparse_output` in version 1.2 and will be removed in 1.4. `sparse_output` is ignored unless you leave `sparse` to its default value.\n",
      "  warnings.warn(\n",
      "C:\\Users\\jonat\\AppData\\Local\\Packages\\PythonSoftwareFoundation.Python.3.11_qbz5n2kfra8p0\\LocalCache\\local-packages\\Python311\\site-packages\\sklearn\\preprocessing\\_encoders.py:975: FutureWarning: `sparse` was renamed to `sparse_output` in version 1.2 and will be removed in 1.4. `sparse_output` is ignored unless you leave `sparse` to its default value.\n",
      "  warnings.warn(\n",
      "C:\\Users\\jonat\\AppData\\Local\\Packages\\PythonSoftwareFoundation.Python.3.11_qbz5n2kfra8p0\\LocalCache\\local-packages\\Python311\\site-packages\\sklearn\\preprocessing\\_encoders.py:975: FutureWarning: `sparse` was renamed to `sparse_output` in version 1.2 and will be removed in 1.4. `sparse_output` is ignored unless you leave `sparse` to its default value.\n",
      "  warnings.warn(\n"
     ]
    }
   ],
   "source": [
    "for column in df.columns[:-1]:\n",
    "    if df[column].dtype == 'object':\n",
    "        encoder = OneHotEncoder(sparse=False, handle_unknown='ignore')\n",
    "        encoded_df = pd.DataFrame(encoder.fit_transform(df[[column]])).copy()\n",
    "        encoded_df.columns = encoder.get_feature_names_out()\n",
    "        new_df = pd.concat([new_df, encoded_df], axis=1)\n",
    "    else:\n",
    "        temp = pd.DataFrame(df[column])\n",
    "        new_df = pd.concat([new_df, temp], axis=1)\n",
    "new_df = pd.concat([new_df,pd.DataFrame(df[df.columns[-1]])],axis=1)"
   ]
  },
  {
   "cell_type": "code",
   "execution_count": 415,
   "metadata": {},
   "outputs": [
    {
     "name": "stdout",
     "output_type": "stream",
     "text": [
      "<class 'pandas.core.frame.DataFrame'>\n",
      "RangeIndex: 1235 entries, 0 to 1234\n",
      "Data columns (total 71 columns):\n",
      " #   Column                            Non-Null Count  Dtype  \n",
      "---  ------                            --------------  -----  \n",
      " 0   surgery_no                        1235 non-null   float64\n",
      " 1   surgery_yes                       1235 non-null   float64\n",
      " 2   age_adult                         1235 non-null   float64\n",
      " 3   age_young                         1235 non-null   float64\n",
      " 4   rectal_temp                       1235 non-null   float64\n",
      " 5   pulse                             1235 non-null   float64\n",
      " 6   respiratory_rate                  1235 non-null   float64\n",
      " 7   temp_of_extremities_cold          1235 non-null   float64\n",
      " 8   temp_of_extremities_cool          1235 non-null   float64\n",
      " 9   temp_of_extremities_normal        1235 non-null   float64\n",
      " 10  temp_of_extremities_warm          1235 non-null   float64\n",
      " 11  peripheral_pulse_absent           1235 non-null   float64\n",
      " 12  peripheral_pulse_increased        1235 non-null   float64\n",
      " 13  peripheral_pulse_normal           1235 non-null   float64\n",
      " 14  peripheral_pulse_reduced          1235 non-null   float64\n",
      " 15  mucous_membrane_bright_pink       1235 non-null   float64\n",
      " 16  mucous_membrane_bright_red        1235 non-null   float64\n",
      " 17  mucous_membrane_dark_cyanotic     1235 non-null   float64\n",
      " 18  mucous_membrane_normal_pink       1235 non-null   float64\n",
      " 19  mucous_membrane_pale_cyanotic     1235 non-null   float64\n",
      " 20  mucous_membrane_pale_pink         1235 non-null   float64\n",
      " 21  capillary_refill_time_3           1235 non-null   float64\n",
      " 22  capillary_refill_time_less_3_sec  1235 non-null   float64\n",
      " 23  capillary_refill_time_more_3_sec  1235 non-null   float64\n",
      " 24  pain_alert                        1235 non-null   float64\n",
      " 25  pain_depressed                    1235 non-null   float64\n",
      " 26  pain_extreme_pain                 1235 non-null   float64\n",
      " 27  pain_mild_pain                    1235 non-null   float64\n",
      " 28  pain_severe_pain                  1235 non-null   float64\n",
      " 29  pain_slight                       1235 non-null   float64\n",
      " 30  peristalsis_absent                1235 non-null   float64\n",
      " 31  peristalsis_distend_small         1235 non-null   float64\n",
      " 32  peristalsis_hypermotile           1235 non-null   float64\n",
      " 33  peristalsis_hypomotile            1235 non-null   float64\n",
      " 34  peristalsis_normal                1235 non-null   float64\n",
      " 35  abdominal_distention_moderate     1235 non-null   float64\n",
      " 36  abdominal_distention_none         1235 non-null   float64\n",
      " 37  abdominal_distention_severe       1235 non-null   float64\n",
      " 38  abdominal_distention_slight       1235 non-null   float64\n",
      " 39  nasogastric_tube_none             1235 non-null   float64\n",
      " 40  nasogastric_tube_significant      1235 non-null   float64\n",
      " 41  nasogastric_tube_slight           1235 non-null   float64\n",
      " 42  nasogastric_reflux_less_1_liter   1235 non-null   float64\n",
      " 43  nasogastric_reflux_more_1_liter   1235 non-null   float64\n",
      " 44  nasogastric_reflux_none           1235 non-null   float64\n",
      " 45  nasogastric_reflux_slight         1235 non-null   float64\n",
      " 46  nasogastric_reflux_ph             1235 non-null   float64\n",
      " 47  rectal_exam_feces_absent          1235 non-null   float64\n",
      " 48  rectal_exam_feces_decreased       1235 non-null   float64\n",
      " 49  rectal_exam_feces_increased       1235 non-null   float64\n",
      " 50  rectal_exam_feces_normal          1235 non-null   float64\n",
      " 51  rectal_exam_feces_serosanguious   1235 non-null   float64\n",
      " 52  abdomen_distend_large             1235 non-null   float64\n",
      " 53  abdomen_distend_small             1235 non-null   float64\n",
      " 54  abdomen_firm                      1235 non-null   float64\n",
      " 55  abdomen_normal                    1235 non-null   float64\n",
      " 56  abdomen_other                     1235 non-null   float64\n",
      " 57  packed_cell_volume                1235 non-null   float64\n",
      " 58  total_protein                     1235 non-null   float64\n",
      " 59  abdomo_appearance_clear           1235 non-null   float64\n",
      " 60  abdomo_appearance_cloudy          1235 non-null   float64\n",
      " 61  abdomo_appearance_serosanguious   1235 non-null   float64\n",
      " 62  abdomo_protein                    1235 non-null   float64\n",
      " 63  surgical_lesion_no                1235 non-null   float64\n",
      " 64  surgical_lesion_yes               1235 non-null   float64\n",
      " 65  lesion_1                          1235 non-null   int64  \n",
      " 66  lesion_2                          1235 non-null   int64  \n",
      " 67  lesion_3                          1235 non-null   int64  \n",
      " 68  cp_data_no                        1235 non-null   float64\n",
      " 69  cp_data_yes                       1235 non-null   float64\n",
      " 70  outcome                           1235 non-null   object \n",
      "dtypes: float64(67), int64(3), object(1)\n",
      "memory usage: 685.2+ KB\n"
     ]
    }
   ],
   "source": [
    "new_df.info()"
   ]
  },
  {
   "cell_type": "code",
   "execution_count": 416,
   "metadata": {},
   "outputs": [],
   "source": [
    "df = new_df"
   ]
  },
  {
   "cell_type": "markdown",
   "metadata": {},
   "source": [
    "Membagi data menjadi X dan Y"
   ]
  },
  {
   "cell_type": "code",
   "execution_count": 417,
   "metadata": {},
   "outputs": [],
   "source": [
    "x = df[df.columns[:-1]]\n",
    "y = df[df.columns[-1]]"
   ]
  },
  {
   "cell_type": "markdown",
   "metadata": {},
   "source": [
    "Reduksi data"
   ]
  },
  {
   "cell_type": "code",
   "execution_count": 418,
   "metadata": {},
   "outputs": [
    {
     "data": {
      "text/plain": [
       "array([9.98400200e-01, 1.39201314e-03, 1.42110001e-04, 3.13153619e-05,\n",
       "       2.38786022e-05, 7.23522426e-06, 2.81678157e-06, 9.65460625e-08,\n",
       "       5.72040313e-08, 2.79100579e-08, 2.10790646e-08, 1.80290162e-08,\n",
       "       1.62567255e-08, 1.40038312e-08, 1.36872679e-08, 1.22995615e-08,\n",
       "       1.12938575e-08, 1.05511084e-08, 1.01450653e-08, 9.37056397e-09,\n",
       "       9.14956461e-09, 8.77812249e-09, 7.89073438e-09, 7.51356232e-09,\n",
       "       6.94962755e-09, 6.84327596e-09, 6.01811978e-09, 5.76947795e-09,\n",
       "       5.31702690e-09, 4.88149530e-09, 4.43227860e-09, 4.18278576e-09,\n",
       "       3.67215225e-09, 3.52943625e-09, 3.40611785e-09, 3.13023838e-09,\n",
       "       3.00146540e-09, 2.74911292e-09, 2.29883826e-09, 2.14547809e-09,\n",
       "       1.84026603e-09, 1.64419464e-09, 1.59366470e-09, 1.42573150e-09,\n",
       "       1.33813040e-09, 1.22434026e-09, 7.61754472e-10, 6.49656412e-10,\n",
       "       1.31004229e-10, 7.87758090e-11, 3.46432994e-11, 3.34408948e-11,\n",
       "       3.21959248e-11, 3.19135718e-11, 9.90991656e-33, 9.90991656e-33,\n",
       "       9.90991656e-33, 9.90991656e-33, 9.90991656e-33, 9.90991656e-33,\n",
       "       9.90991656e-33, 9.90991656e-33, 9.90991656e-33, 9.90991656e-33,\n",
       "       9.90991656e-33, 9.90991656e-33, 9.90991656e-33, 9.90991656e-33,\n",
       "       9.90991656e-33, 4.89619096e-35])"
      ]
     },
     "execution_count": 418,
     "metadata": {},
     "output_type": "execute_result"
    }
   ],
   "source": [
    "pca = PCA()\n",
    "pca.fit(x)\n",
    "pca.explained_variance_ratio_"
   ]
  },
  {
   "cell_type": "code",
   "execution_count": 419,
   "metadata": {},
   "outputs": [],
   "source": [
    "x = pd.DataFrame(pca.transform(x),columns=pca.get_feature_names_out())"
   ]
  },
  {
   "cell_type": "code",
   "execution_count": 420,
   "metadata": {},
   "outputs": [],
   "source": [
    "x = normalize(x)\n",
    "x = pd.DataFrame(x,columns=pca.get_feature_names_out())"
   ]
  },
  {
   "cell_type": "code",
   "execution_count": 421,
   "metadata": {},
   "outputs": [],
   "source": [
    "x_train,x_test,y_train,y_test = train_test_split(x,y,test_size=0.2)"
   ]
  },
  {
   "cell_type": "code",
   "execution_count": 422,
   "metadata": {},
   "outputs": [],
   "source": [
    "knn = KNeighborsClassifier()\n",
    "nb = GaussianNB()\n",
    "dt = DecisionTreeClassifier()\n",
    "svm = SVC()\n",
    "rf = RandomForestClassifier()\n",
    "gb = GradientBoostingClassifier()"
   ]
  },
  {
   "cell_type": "markdown",
   "metadata": {},
   "source": [
    "Memasukkan data train ke model"
   ]
  },
  {
   "cell_type": "code",
   "execution_count": 423,
   "metadata": {},
   "outputs": [
    {
     "data": {
      "text/html": [
       "<style>#sk-container-id-12 {color: black;}#sk-container-id-12 pre{padding: 0;}#sk-container-id-12 div.sk-toggleable {background-color: white;}#sk-container-id-12 label.sk-toggleable__label {cursor: pointer;display: block;width: 100%;margin-bottom: 0;padding: 0.3em;box-sizing: border-box;text-align: center;}#sk-container-id-12 label.sk-toggleable__label-arrow:before {content: \"▸\";float: left;margin-right: 0.25em;color: #696969;}#sk-container-id-12 label.sk-toggleable__label-arrow:hover:before {color: black;}#sk-container-id-12 div.sk-estimator:hover label.sk-toggleable__label-arrow:before {color: black;}#sk-container-id-12 div.sk-toggleable__content {max-height: 0;max-width: 0;overflow: hidden;text-align: left;background-color: #f0f8ff;}#sk-container-id-12 div.sk-toggleable__content pre {margin: 0.2em;color: black;border-radius: 0.25em;background-color: #f0f8ff;}#sk-container-id-12 input.sk-toggleable__control:checked~div.sk-toggleable__content {max-height: 200px;max-width: 100%;overflow: auto;}#sk-container-id-12 input.sk-toggleable__control:checked~label.sk-toggleable__label-arrow:before {content: \"▾\";}#sk-container-id-12 div.sk-estimator input.sk-toggleable__control:checked~label.sk-toggleable__label {background-color: #d4ebff;}#sk-container-id-12 div.sk-label input.sk-toggleable__control:checked~label.sk-toggleable__label {background-color: #d4ebff;}#sk-container-id-12 input.sk-hidden--visually {border: 0;clip: rect(1px 1px 1px 1px);clip: rect(1px, 1px, 1px, 1px);height: 1px;margin: -1px;overflow: hidden;padding: 0;position: absolute;width: 1px;}#sk-container-id-12 div.sk-estimator {font-family: monospace;background-color: #f0f8ff;border: 1px dotted black;border-radius: 0.25em;box-sizing: border-box;margin-bottom: 0.5em;}#sk-container-id-12 div.sk-estimator:hover {background-color: #d4ebff;}#sk-container-id-12 div.sk-parallel-item::after {content: \"\";width: 100%;border-bottom: 1px solid gray;flex-grow: 1;}#sk-container-id-12 div.sk-label:hover label.sk-toggleable__label {background-color: #d4ebff;}#sk-container-id-12 div.sk-serial::before {content: \"\";position: absolute;border-left: 1px solid gray;box-sizing: border-box;top: 0;bottom: 0;left: 50%;z-index: 0;}#sk-container-id-12 div.sk-serial {display: flex;flex-direction: column;align-items: center;background-color: white;padding-right: 0.2em;padding-left: 0.2em;position: relative;}#sk-container-id-12 div.sk-item {position: relative;z-index: 1;}#sk-container-id-12 div.sk-parallel {display: flex;align-items: stretch;justify-content: center;background-color: white;position: relative;}#sk-container-id-12 div.sk-item::before, #sk-container-id-12 div.sk-parallel-item::before {content: \"\";position: absolute;border-left: 1px solid gray;box-sizing: border-box;top: 0;bottom: 0;left: 50%;z-index: -1;}#sk-container-id-12 div.sk-parallel-item {display: flex;flex-direction: column;z-index: 1;position: relative;background-color: white;}#sk-container-id-12 div.sk-parallel-item:first-child::after {align-self: flex-end;width: 50%;}#sk-container-id-12 div.sk-parallel-item:last-child::after {align-self: flex-start;width: 50%;}#sk-container-id-12 div.sk-parallel-item:only-child::after {width: 0;}#sk-container-id-12 div.sk-dashed-wrapped {border: 1px dashed gray;margin: 0 0.4em 0.5em 0.4em;box-sizing: border-box;padding-bottom: 0.4em;background-color: white;}#sk-container-id-12 div.sk-label label {font-family: monospace;font-weight: bold;display: inline-block;line-height: 1.2em;}#sk-container-id-12 div.sk-label-container {text-align: center;}#sk-container-id-12 div.sk-container {/* jupyter's `normalize.less` sets `[hidden] { display: none; }` but bootstrap.min.css set `[hidden] { display: none !important; }` so we also need the `!important` here to be able to override the default hidden behavior on the sphinx rendered scikit-learn.org. See: https://github.com/scikit-learn/scikit-learn/issues/21755 */display: inline-block !important;position: relative;}#sk-container-id-12 div.sk-text-repr-fallback {display: none;}</style><div id=\"sk-container-id-12\" class=\"sk-top-container\"><div class=\"sk-text-repr-fallback\"><pre>GradientBoostingClassifier()</pre><b>In a Jupyter environment, please rerun this cell to show the HTML representation or trust the notebook. <br />On GitHub, the HTML representation is unable to render, please try loading this page with nbviewer.org.</b></div><div class=\"sk-container\" hidden><div class=\"sk-item\"><div class=\"sk-estimator sk-toggleable\"><input class=\"sk-toggleable__control sk-hidden--visually\" id=\"sk-estimator-id-12\" type=\"checkbox\" checked><label for=\"sk-estimator-id-12\" class=\"sk-toggleable__label sk-toggleable__label-arrow\">GradientBoostingClassifier</label><div class=\"sk-toggleable__content\"><pre>GradientBoostingClassifier()</pre></div></div></div></div></div>"
      ],
      "text/plain": [
       "GradientBoostingClassifier()"
      ]
     },
     "execution_count": 423,
     "metadata": {},
     "output_type": "execute_result"
    }
   ],
   "source": [
    "knn.fit(x_train,y_train)\n",
    "nb.fit(x_train,y_train)\n",
    "dt.fit(x_train,y_train)\n",
    "svm.fit(x_train,y_train)\n",
    "rf.fit(x_train,y_train)\n",
    "gb.fit(x_train,y_train)"
   ]
  },
  {
   "cell_type": "markdown",
   "metadata": {},
   "source": [
    "Melakukan testing"
   ]
  },
  {
   "cell_type": "code",
   "execution_count": 424,
   "metadata": {},
   "outputs": [],
   "source": [
    "knn_predict = knn.predict(x_test)\n",
    "nb_predict = nb.predict(x_test)\n",
    "dt_predict = dt.predict(x_test)\n",
    "svm_predict = svm.predict(x_test)\n",
    "rf_predict = rf.predict(x_test)\n",
    "gb_predict = gb.predict(x_test)"
   ]
  },
  {
   "cell_type": "markdown",
   "metadata": {},
   "source": [
    "Hasil Akurasi"
   ]
  },
  {
   "cell_type": "code",
   "execution_count": 425,
   "metadata": {},
   "outputs": [
    {
     "name": "stdout",
     "output_type": "stream",
     "text": [
      "knn accuracy : \n",
      "0.6275303643724697\n"
     ]
    }
   ],
   "source": [
    "print(\"knn accuracy : \")\n",
    "print(accuracy_score(y_test,knn_predict))"
   ]
  },
  {
   "cell_type": "code",
   "execution_count": 426,
   "metadata": {},
   "outputs": [
    {
     "name": "stdout",
     "output_type": "stream",
     "text": [
      "nb accuracy : \n",
      "0.5668016194331984\n"
     ]
    }
   ],
   "source": [
    "print(\"nb accuracy : \")\n",
    "print(accuracy_score(y_test,nb_predict))"
   ]
  },
  {
   "cell_type": "code",
   "execution_count": 427,
   "metadata": {},
   "outputs": [
    {
     "name": "stdout",
     "output_type": "stream",
     "text": [
      "dt accuracy : \n",
      "0.5748987854251012\n"
     ]
    }
   ],
   "source": [
    "print(\"dt accuracy : \")\n",
    "print(accuracy_score(y_test,dt_predict))"
   ]
  },
  {
   "cell_type": "code",
   "execution_count": 428,
   "metadata": {},
   "outputs": [
    {
     "name": "stdout",
     "output_type": "stream",
     "text": [
      "svm accuracy : \n",
      "0.46963562753036436\n"
     ]
    }
   ],
   "source": [
    "print(\"svm accuracy : \")\n",
    "print(accuracy_score(y_test,svm_predict))"
   ]
  },
  {
   "cell_type": "code",
   "execution_count": 429,
   "metadata": {},
   "outputs": [
    {
     "name": "stdout",
     "output_type": "stream",
     "text": [
      "rf accuracy : \n",
      "0.6720647773279352\n"
     ]
    }
   ],
   "source": [
    "print(\"rf accuracy : \")\n",
    "print(accuracy_score(y_test,rf_predict))"
   ]
  },
  {
   "cell_type": "code",
   "execution_count": 430,
   "metadata": {},
   "outputs": [
    {
     "name": "stdout",
     "output_type": "stream",
     "text": [
      "gb accuracy : \n",
      "0.6639676113360324\n"
     ]
    }
   ],
   "source": [
    "print(\"gb accuracy : \")\n",
    "print(accuracy_score(y_test,gb_predict))"
   ]
  },
  {
   "cell_type": "code",
   "execution_count": 431,
   "metadata": {},
   "outputs": [],
   "source": [
    "knn_predict = knn_predict.tolist()\n",
    "nb_predict = nb_predict.tolist()\n",
    "dt_predict = dt_predict.tolist()\n",
    "svm_predict = svm_predict.tolist()\n",
    "rf_predict = rf_predict.tolist()\n",
    "gb_predict = gb_predict.tolist()"
   ]
  },
  {
   "cell_type": "markdown",
   "metadata": {},
   "source": [
    "Voting untuk menggabungkan data-datanya\n"
   ]
  },
  {
   "cell_type": "code",
   "execution_count": 432,
   "metadata": {},
   "outputs": [],
   "source": [
    "final_result = []\n",
    "for i in range (len(knn_predict)):\n",
    "    temp = [knn_predict[i],nb_predict[i],dt_predict[i],svm_predict[i],rf_predict[i],gb_predict[i]]\n",
    "    lived_counter = temp.count('lived')\n",
    "    euthanized_counter = temp.count('euthanized')\n",
    "    died_counter = temp.count('died')\n",
    "    temp = [lived_counter,euthanized_counter,died_counter]\n",
    "    if (max(temp) == lived_counter):\n",
    "        final_result.append('lived')\n",
    "    elif (max(temp) == died_counter):\n",
    "        final_result.append('died')\n",
    "    else:\n",
    "        final_result.append('euthanized')"
   ]
  },
  {
   "cell_type": "markdown",
   "metadata": {},
   "source": [
    "Akurasi akhir"
   ]
  },
  {
   "cell_type": "code",
   "execution_count": 433,
   "metadata": {},
   "outputs": [
    {
     "name": "stdout",
     "output_type": "stream",
     "text": [
      "final accuracy: \n",
      "0.659919028340081\n"
     ]
    }
   ],
   "source": [
    "final_result = pd.Series(final_result)\n",
    "print('final accuracy: ')\n",
    "print(accuracy_score(y_test,final_result))"
   ]
  },
  {
   "cell_type": "code",
   "execution_count": null,
   "metadata": {},
   "outputs": [],
   "source": []
  }
 ],
 "metadata": {
  "kernelspec": {
   "display_name": "Python 3",
   "language": "python",
   "name": "python3"
  },
  "language_info": {
   "codemirror_mode": {
    "name": "ipython",
    "version": 3
   },
   "file_extension": ".py",
   "mimetype": "text/x-python",
   "name": "python",
   "nbconvert_exporter": "python",
   "pygments_lexer": "ipython3",
   "version": "3.11.9"
  }
 },
 "nbformat": 4,
 "nbformat_minor": 2
}
